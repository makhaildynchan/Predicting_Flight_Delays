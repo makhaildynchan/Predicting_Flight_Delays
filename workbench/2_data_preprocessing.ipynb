{
 "cells": [
  {
   "cell_type": "markdown",
   "metadata": {},
   "source": [
    "## `Flight Delay Prediction`\n",
    "### **Part 2:** Data Preprocessing for EDA\n",
    "\n",
    "-- This is just a mass cleanup of the data. The data will be polished and cleaned further in Part 3: EDA.\n",
    "\n",
    "Ali Bahrami"
   ]
  },
  {
   "cell_type": "code",
   "execution_count": 1,
   "metadata": {},
   "outputs": [],
   "source": [
    "import numpy as np\n",
    "import pandas as pd"
   ]
  },
  {
   "cell_type": "code",
   "execution_count": 2,
   "metadata": {},
   "outputs": [],
   "source": [
    "# Read from extracted data\n",
    "df_flights_raw = pd.read_csv(\"data/raw/flights_raw.csv\")\n",
    "df_passengers_raw = pd.read_csv(\"data/raw/passengers_raw.csv\")\n",
    "df_fuel_raw = pd.read_csv(\"data/raw/fuel_raw.csv\")"
   ]
  },
  {
   "cell_type": "code",
   "execution_count": 3,
   "metadata": {},
   "outputs": [],
   "source": [
    "# Take copy to measure data loss after clean-up\n",
    "df_flights = df_flights_raw.copy()\n",
    "df_passengers = df_passengers_raw.copy()\n",
    "df_fuel = df_fuel_raw.copy()"
   ]
  },
  {
   "cell_type": "markdown",
   "metadata": {},
   "source": [
    "### Missing Values Treatment"
   ]
  },
  {
   "cell_type": "code",
   "execution_count": 4,
   "metadata": {},
   "outputs": [
    {
     "data": {
      "text/html": [
       "<div>\n",
       "<style scoped>\n",
       "    .dataframe tbody tr th:only-of-type {\n",
       "        vertical-align: middle;\n",
       "    }\n",
       "\n",
       "    .dataframe tbody tr th {\n",
       "        vertical-align: top;\n",
       "    }\n",
       "\n",
       "    .dataframe thead th {\n",
       "        text-align: right;\n",
       "    }\n",
       "</style>\n",
       "<table border=\"1\" class=\"dataframe\">\n",
       "  <thead>\n",
       "    <tr style=\"text-align: right;\">\n",
       "      <th></th>\n",
       "      <th>fl_date</th>\n",
       "      <th>mkt_unique_carrier</th>\n",
       "      <th>branded_code_share</th>\n",
       "      <th>mkt_carrier</th>\n",
       "      <th>mkt_carrier_fl_num</th>\n",
       "      <th>op_unique_carrier</th>\n",
       "      <th>tail_num</th>\n",
       "      <th>op_carrier_fl_num</th>\n",
       "      <th>origin_airport_id</th>\n",
       "      <th>origin</th>\n",
       "      <th>...</th>\n",
       "      <th>distance</th>\n",
       "      <th>carrier_delay</th>\n",
       "      <th>weather_delay</th>\n",
       "      <th>nas_delay</th>\n",
       "      <th>security_delay</th>\n",
       "      <th>late_aircraft_delay</th>\n",
       "      <th>first_dep_time</th>\n",
       "      <th>total_add_gtime</th>\n",
       "      <th>longest_add_gtime</th>\n",
       "      <th>no_name</th>\n",
       "    </tr>\n",
       "  </thead>\n",
       "  <tbody>\n",
       "    <tr>\n",
       "      <th>0</th>\n",
       "      <td>2018-05-04</td>\n",
       "      <td>DL</td>\n",
       "      <td>DL_CODESHARE</td>\n",
       "      <td>DL</td>\n",
       "      <td>5535</td>\n",
       "      <td>EV</td>\n",
       "      <td>N754EV</td>\n",
       "      <td>5535</td>\n",
       "      <td>10721</td>\n",
       "      <td>BOS</td>\n",
       "      <td>...</td>\n",
       "      <td>474.0</td>\n",
       "      <td>NaN</td>\n",
       "      <td>NaN</td>\n",
       "      <td>NaN</td>\n",
       "      <td>NaN</td>\n",
       "      <td>NaN</td>\n",
       "      <td>NaN</td>\n",
       "      <td>NaN</td>\n",
       "      <td>NaN</td>\n",
       "      <td>NaN</td>\n",
       "    </tr>\n",
       "    <tr>\n",
       "      <th>1</th>\n",
       "      <td>2019-12-09</td>\n",
       "      <td>UA</td>\n",
       "      <td>UA</td>\n",
       "      <td>UA</td>\n",
       "      <td>1754</td>\n",
       "      <td>UA</td>\n",
       "      <td>N828UA</td>\n",
       "      <td>1754</td>\n",
       "      <td>13495</td>\n",
       "      <td>MSY</td>\n",
       "      <td>...</td>\n",
       "      <td>1167.0</td>\n",
       "      <td>0.0</td>\n",
       "      <td>0.0</td>\n",
       "      <td>178.0</td>\n",
       "      <td>0.0</td>\n",
       "      <td>0.0</td>\n",
       "      <td>NaN</td>\n",
       "      <td>NaN</td>\n",
       "      <td>NaN</td>\n",
       "      <td>NaN</td>\n",
       "    </tr>\n",
       "    <tr>\n",
       "      <th>2</th>\n",
       "      <td>2019-12-20</td>\n",
       "      <td>AA</td>\n",
       "      <td>AA</td>\n",
       "      <td>AA</td>\n",
       "      <td>1988</td>\n",
       "      <td>AA</td>\n",
       "      <td>N763US</td>\n",
       "      <td>1988</td>\n",
       "      <td>11057</td>\n",
       "      <td>CLT</td>\n",
       "      <td>...</td>\n",
       "      <td>1095.0</td>\n",
       "      <td>19.0</td>\n",
       "      <td>0.0</td>\n",
       "      <td>0.0</td>\n",
       "      <td>0.0</td>\n",
       "      <td>0.0</td>\n",
       "      <td>NaN</td>\n",
       "      <td>NaN</td>\n",
       "      <td>NaN</td>\n",
       "      <td>NaN</td>\n",
       "    </tr>\n",
       "    <tr>\n",
       "      <th>3</th>\n",
       "      <td>2019-07-14</td>\n",
       "      <td>DL</td>\n",
       "      <td>DL</td>\n",
       "      <td>DL</td>\n",
       "      <td>2230</td>\n",
       "      <td>DL</td>\n",
       "      <td>N961DL</td>\n",
       "      <td>2230</td>\n",
       "      <td>10397</td>\n",
       "      <td>ATL</td>\n",
       "      <td>...</td>\n",
       "      <td>1027.0</td>\n",
       "      <td>NaN</td>\n",
       "      <td>NaN</td>\n",
       "      <td>NaN</td>\n",
       "      <td>NaN</td>\n",
       "      <td>NaN</td>\n",
       "      <td>NaN</td>\n",
       "      <td>NaN</td>\n",
       "      <td>NaN</td>\n",
       "      <td>NaN</td>\n",
       "    </tr>\n",
       "    <tr>\n",
       "      <th>4</th>\n",
       "      <td>2019-04-08</td>\n",
       "      <td>AA</td>\n",
       "      <td>AA</td>\n",
       "      <td>AA</td>\n",
       "      <td>1904</td>\n",
       "      <td>AA</td>\n",
       "      <td>N679AW</td>\n",
       "      <td>1904</td>\n",
       "      <td>14107</td>\n",
       "      <td>PHX</td>\n",
       "      <td>...</td>\n",
       "      <td>735.0</td>\n",
       "      <td>NaN</td>\n",
       "      <td>NaN</td>\n",
       "      <td>NaN</td>\n",
       "      <td>NaN</td>\n",
       "      <td>NaN</td>\n",
       "      <td>NaN</td>\n",
       "      <td>NaN</td>\n",
       "      <td>NaN</td>\n",
       "      <td>NaN</td>\n",
       "    </tr>\n",
       "  </tbody>\n",
       "</table>\n",
       "<p>5 rows × 42 columns</p>\n",
       "</div>"
      ],
      "text/plain": [
       "      fl_date mkt_unique_carrier branded_code_share mkt_carrier  \\\n",
       "0  2018-05-04                 DL       DL_CODESHARE          DL   \n",
       "1  2019-12-09                 UA                 UA          UA   \n",
       "2  2019-12-20                 AA                 AA          AA   \n",
       "3  2019-07-14                 DL                 DL          DL   \n",
       "4  2019-04-08                 AA                 AA          AA   \n",
       "\n",
       "   mkt_carrier_fl_num op_unique_carrier tail_num  op_carrier_fl_num  \\\n",
       "0                5535                EV   N754EV               5535   \n",
       "1                1754                UA   N828UA               1754   \n",
       "2                1988                AA   N763US               1988   \n",
       "3                2230                DL   N961DL               2230   \n",
       "4                1904                AA   N679AW               1904   \n",
       "\n",
       "   origin_airport_id origin  ... distance  carrier_delay weather_delay  \\\n",
       "0              10721    BOS  ...    474.0            NaN           NaN   \n",
       "1              13495    MSY  ...   1167.0            0.0           0.0   \n",
       "2              11057    CLT  ...   1095.0           19.0           0.0   \n",
       "3              10397    ATL  ...   1027.0            NaN           NaN   \n",
       "4              14107    PHX  ...    735.0            NaN           NaN   \n",
       "\n",
       "  nas_delay  security_delay  late_aircraft_delay  first_dep_time  \\\n",
       "0       NaN             NaN                  NaN             NaN   \n",
       "1     178.0             0.0                  0.0             NaN   \n",
       "2       0.0             0.0                  0.0             NaN   \n",
       "3       NaN             NaN                  NaN             NaN   \n",
       "4       NaN             NaN                  NaN             NaN   \n",
       "\n",
       "   total_add_gtime  longest_add_gtime  no_name  \n",
       "0              NaN                NaN      NaN  \n",
       "1              NaN                NaN      NaN  \n",
       "2              NaN                NaN      NaN  \n",
       "3              NaN                NaN      NaN  \n",
       "4              NaN                NaN      NaN  \n",
       "\n",
       "[5 rows x 42 columns]"
      ]
     },
     "execution_count": 4,
     "metadata": {},
     "output_type": "execute_result"
    }
   ],
   "source": [
    "df_flights.head()"
   ]
  },
  {
   "cell_type": "markdown",
   "metadata": {},
   "source": [
    "Drop cancelled and diverted flights, given that the focus of the project is only on flights delays\n"
   ]
  },
  {
   "cell_type": "code",
   "execution_count": 5,
   "metadata": {},
   "outputs": [],
   "source": [
    "df_flights = df_flights[(df_flights['cancelled'] != 1)&(df_flights['diverted']!=1)]"
   ]
  },
  {
   "cell_type": "markdown",
   "metadata": {},
   "source": [
    "Drop unnecessary columns:\n",
    "- No need for mkt_carrier data as there is operating carrier\n",
    "- cancellation codes are not needed.\n",
    "- flight numbers are not needed.\n",
    "- airport ids are not needed.\n",
    "- other columns with more than 90% of data missing "
   ]
  },
  {
   "cell_type": "code",
   "execution_count": 6,
   "metadata": {},
   "outputs": [],
   "source": [
    "cols = ['cancellation_code' , 'mkt_carrier','op_unique_carrier', 'branded_code_share', 'mkt_carrier_fl_num', 'op_carrier_fl_num', 'diverted','first_dep_time', 'origin_airport_id', 'dest_airport_id', 'flights','total_add_gtime', 'longest_add_gtime', 'no_name']\n",
    "df_flights = df_flights.drop(columns=cols)"
   ]
  },
  {
   "cell_type": "code",
   "execution_count": 7,
   "metadata": {},
   "outputs": [
    {
     "data": {
      "text/plain": [
       "fl_date                     0\n",
       "mkt_unique_carrier          0\n",
       "tail_num                    0\n",
       "origin                      0\n",
       "origin_city_name            0\n",
       "dest                        0\n",
       "dest_city_name              0\n",
       "crs_dep_time                0\n",
       "dep_time                    0\n",
       "dep_delay                  55\n",
       "taxi_out                   78\n",
       "wheels_off                 78\n",
       "wheels_on                  78\n",
       "taxi_in                    78\n",
       "crs_arr_time                0\n",
       "arr_time                    0\n",
       "arr_delay                  27\n",
       "cancelled                   0\n",
       "dup                         0\n",
       "crs_elapsed_time            0\n",
       "actual_elapsed_time         0\n",
       "air_time                   78\n",
       "distance                    0\n",
       "carrier_delay          158311\n",
       "weather_delay          158311\n",
       "nas_delay              158311\n",
       "security_delay         158311\n",
       "late_aircraft_delay    158311\n",
       "dtype: int64"
      ]
     },
     "execution_count": 7,
     "metadata": {},
     "output_type": "execute_result"
    }
   ],
   "source": [
    "df_flights.isnull().sum()"
   ]
  },
  {
   "cell_type": "markdown",
   "metadata": {},
   "source": [
    "The columns with reasons of delay (carrier delay, weather delay, etc.) all seem to similar amounts of missing data: 158311\n",
    "\n",
    "which is more than 50% of the entire dataset. \n",
    "\n",
    "I will fill them with zero for now, but will drop them during the modeling phase."
   ]
  },
  {
   "cell_type": "code",
   "execution_count": 8,
   "metadata": {},
   "outputs": [],
   "source": [
    "# Fill na values in appropriate columns with zero.\n",
    "# i.e. security_delay either has values in minutes or na values which would be zero\n",
    "\n",
    "columns_fill = ['carrier_delay', 'weather_delay', 'nas_delay', 'security_delay', 'late_aircraft_delay']\n",
    "df_flights.update(df_flights[columns_fill].fillna(0))"
   ]
  },
  {
   "cell_type": "code",
   "execution_count": 9,
   "metadata": {},
   "outputs": [],
   "source": [
    "# Drop any sporadic nan values (i.e. ghost flights with no air time) (207 values)\n",
    "df_flights.dropna(axis=0, inplace=True)"
   ]
  },
  {
   "cell_type": "code",
   "execution_count": 10,
   "metadata": {},
   "outputs": [
    {
     "data": {
      "text/plain": [
       "fl_date                0\n",
       "mkt_unique_carrier     0\n",
       "tail_num               0\n",
       "origin                 0\n",
       "origin_city_name       0\n",
       "dest                   0\n",
       "dest_city_name         0\n",
       "crs_dep_time           0\n",
       "dep_time               0\n",
       "dep_delay              0\n",
       "taxi_out               0\n",
       "wheels_off             0\n",
       "wheels_on              0\n",
       "taxi_in                0\n",
       "crs_arr_time           0\n",
       "arr_time               0\n",
       "arr_delay              0\n",
       "cancelled              0\n",
       "dup                    0\n",
       "crs_elapsed_time       0\n",
       "actual_elapsed_time    0\n",
       "air_time               0\n",
       "distance               0\n",
       "carrier_delay          0\n",
       "weather_delay          0\n",
       "nas_delay              0\n",
       "security_delay         0\n",
       "late_aircraft_delay    0\n",
       "dtype: int64"
      ]
     },
     "execution_count": 10,
     "metadata": {},
     "output_type": "execute_result"
    }
   ],
   "source": [
    "df_flights.isnull().sum()"
   ]
  },
  {
   "cell_type": "markdown",
   "metadata": {},
   "source": [
    "## Preliminary Data Manipulation and Feature Engineering"
   ]
  },
  {
   "cell_type": "code",
   "execution_count": 11,
   "metadata": {},
   "outputs": [],
   "source": [
    "# The airlines names are given as abbreviations only, import the full name from the files.\n",
    "airlines = pd.read_csv(\"data/airlines.csv\")\n",
    "abbr_airlines = airlines.set_index('IATA_CODE')['AIRLINE'].to_dict()\n",
    "\n",
    "# Add the full airline names to the dataframe\n",
    "df_flights['carrier'] = df_flights['mkt_unique_carrier'].replace(abbr_airlines)"
   ]
  },
  {
   "cell_type": "code",
   "execution_count": 12,
   "metadata": {},
   "outputs": [
    {
     "data": {
      "text/plain": [
       "array(['Delta Air Lines', 'United Airlines', 'American Airlines',\n",
       "       'Southwest Airlines', 'Alaska Airlines', 'Frontier Airlines',\n",
       "       'Hawaiian Airlines', 'Spirit Airlines', 'JetBlue Airways',\n",
       "       ' Allegiant Air', 'Virgin America'], dtype=object)"
      ]
     },
     "execution_count": 12,
     "metadata": {},
     "output_type": "execute_result"
    }
   ],
   "source": [
    "df_flights['carrier'].unique()"
   ]
  },
  {
   "cell_type": "markdown",
   "metadata": {},
   "source": [
    "Day of Week GLOSSARY\n",
    "\n",
    "0 = Monday\n",
    "\n",
    "1 = Tuesday\n",
    "\n",
    "2 = Wednesday\n",
    "\n",
    "3 = Thursday\n",
    "\n",
    "4 = Friday\n",
    "\n",
    "5 = Saturday\n",
    "\n",
    "6 = Sunday"
   ]
  },
  {
   "cell_type": "code",
   "execution_count": 13,
   "metadata": {},
   "outputs": [],
   "source": [
    "# Add separate columns for year, month, day of month, and day of week\n",
    "df_flights['fl_date'] = pd.to_datetime(df_flights['fl_date'],format='%Y-%m-%d')\n",
    "df_flights['month'] = pd.DatetimeIndex(df_flights['fl_date']).month\n",
    "df_flights['day_of_week'] = pd.DatetimeIndex(df_flights['fl_date']).dayofweek"
   ]
  },
  {
   "cell_type": "markdown",
   "metadata": {},
   "source": [
    "Divide the flight into short, medium, and long haul flights based on air time"
   ]
  },
  {
   "cell_type": "code",
   "execution_count": 14,
   "metadata": {},
   "outputs": [],
   "source": [
    "\n",
    "def haul(df, col):\n",
    "    '''Add a column to determine flight haul (short, medium, long) based on air_time'''\n",
    "    length=[]\n",
    "    for i in df[col]:\n",
    "        if i < (3*60): # up to 3 hours\n",
    "            length.append('short')\n",
    "        elif (i >= (3*60)) and (i < (6*60)): # 3-6 hours\n",
    "            length.append('medium')\n",
    "        elif i >= (6*60):\n",
    "            length.append('long') # 6+ hours\n",
    "    df_flights['haul_length'] = length\n",
    "\n",
    "haul(df_flights, 'air_time')"
   ]
  },
  {
   "cell_type": "code",
   "execution_count": 15,
   "metadata": {},
   "outputs": [],
   "source": [
    "# Add flight route\n",
    "df_flights['route'] = df_flights['origin'] + \"-\" + df_flights['dest']"
   ]
  },
  {
   "cell_type": "markdown",
   "metadata": {},
   "source": [
    "### Binary Classification\n",
    "Classify the flights in a new column 'flight_delayed' into:\n",
    "\n",
    "delayed = 1\n",
    "\n",
    "not delayed = 0"
   ]
  },
  {
   "cell_type": "code",
   "execution_count": 16,
   "metadata": {},
   "outputs": [],
   "source": [
    "status = []\n",
    "\n",
    "for value in df_flights['arr_delay']:\n",
    "    if value <= 0:\n",
    "        status.append(0)\n",
    "    else:\n",
    "        status.append(1)\n",
    "df_flights['flight_delayed'] = status\n"
   ]
  },
  {
   "cell_type": "code",
   "execution_count": 17,
   "metadata": {},
   "outputs": [
    {
     "data": {
      "text/html": [
       "<div>\n",
       "<style scoped>\n",
       "    .dataframe tbody tr th:only-of-type {\n",
       "        vertical-align: middle;\n",
       "    }\n",
       "\n",
       "    .dataframe tbody tr th {\n",
       "        vertical-align: top;\n",
       "    }\n",
       "\n",
       "    .dataframe thead th {\n",
       "        text-align: right;\n",
       "    }\n",
       "</style>\n",
       "<table border=\"1\" class=\"dataframe\">\n",
       "  <thead>\n",
       "    <tr style=\"text-align: right;\">\n",
       "      <th></th>\n",
       "      <th>fl_date</th>\n",
       "      <th>mkt_unique_carrier</th>\n",
       "      <th>tail_num</th>\n",
       "      <th>origin</th>\n",
       "      <th>origin_city_name</th>\n",
       "      <th>dest</th>\n",
       "      <th>dest_city_name</th>\n",
       "      <th>crs_dep_time</th>\n",
       "      <th>dep_time</th>\n",
       "      <th>dep_delay</th>\n",
       "      <th>...</th>\n",
       "      <th>weather_delay</th>\n",
       "      <th>nas_delay</th>\n",
       "      <th>security_delay</th>\n",
       "      <th>late_aircraft_delay</th>\n",
       "      <th>carrier</th>\n",
       "      <th>month</th>\n",
       "      <th>day_of_week</th>\n",
       "      <th>haul_length</th>\n",
       "      <th>route</th>\n",
       "      <th>flight_delayed</th>\n",
       "    </tr>\n",
       "  </thead>\n",
       "  <tbody>\n",
       "    <tr>\n",
       "      <th>0</th>\n",
       "      <td>2018-05-04</td>\n",
       "      <td>DL</td>\n",
       "      <td>N754EV</td>\n",
       "      <td>BOS</td>\n",
       "      <td>Boston, MA</td>\n",
       "      <td>RIC</td>\n",
       "      <td>Richmond, VA</td>\n",
       "      <td>1455</td>\n",
       "      <td>1453.0</td>\n",
       "      <td>-2.0</td>\n",
       "      <td>...</td>\n",
       "      <td>0.0</td>\n",
       "      <td>0.0</td>\n",
       "      <td>0.0</td>\n",
       "      <td>0.0</td>\n",
       "      <td>Delta Air Lines</td>\n",
       "      <td>5</td>\n",
       "      <td>4</td>\n",
       "      <td>short</td>\n",
       "      <td>BOS-RIC</td>\n",
       "      <td>0</td>\n",
       "    </tr>\n",
       "    <tr>\n",
       "      <th>1</th>\n",
       "      <td>2019-12-09</td>\n",
       "      <td>UA</td>\n",
       "      <td>N828UA</td>\n",
       "      <td>MSY</td>\n",
       "      <td>New Orleans, LA</td>\n",
       "      <td>EWR</td>\n",
       "      <td>Newark, NJ</td>\n",
       "      <td>1515</td>\n",
       "      <td>1757.0</td>\n",
       "      <td>162.0</td>\n",
       "      <td>...</td>\n",
       "      <td>0.0</td>\n",
       "      <td>178.0</td>\n",
       "      <td>0.0</td>\n",
       "      <td>0.0</td>\n",
       "      <td>United Airlines</td>\n",
       "      <td>12</td>\n",
       "      <td>0</td>\n",
       "      <td>short</td>\n",
       "      <td>MSY-EWR</td>\n",
       "      <td>1</td>\n",
       "    </tr>\n",
       "    <tr>\n",
       "      <th>2</th>\n",
       "      <td>2019-12-20</td>\n",
       "      <td>AA</td>\n",
       "      <td>N763US</td>\n",
       "      <td>CLT</td>\n",
       "      <td>Charlotte, NC</td>\n",
       "      <td>SAT</td>\n",
       "      <td>San Antonio, TX</td>\n",
       "      <td>1610</td>\n",
       "      <td>1630.0</td>\n",
       "      <td>20.0</td>\n",
       "      <td>...</td>\n",
       "      <td>0.0</td>\n",
       "      <td>0.0</td>\n",
       "      <td>0.0</td>\n",
       "      <td>0.0</td>\n",
       "      <td>American Airlines</td>\n",
       "      <td>12</td>\n",
       "      <td>4</td>\n",
       "      <td>short</td>\n",
       "      <td>CLT-SAT</td>\n",
       "      <td>1</td>\n",
       "    </tr>\n",
       "    <tr>\n",
       "      <th>3</th>\n",
       "      <td>2019-07-14</td>\n",
       "      <td>DL</td>\n",
       "      <td>N961DL</td>\n",
       "      <td>ATL</td>\n",
       "      <td>Atlanta, GA</td>\n",
       "      <td>PWM</td>\n",
       "      <td>Portland, ME</td>\n",
       "      <td>2114</td>\n",
       "      <td>2114.0</td>\n",
       "      <td>0.0</td>\n",
       "      <td>...</td>\n",
       "      <td>0.0</td>\n",
       "      <td>0.0</td>\n",
       "      <td>0.0</td>\n",
       "      <td>0.0</td>\n",
       "      <td>Delta Air Lines</td>\n",
       "      <td>7</td>\n",
       "      <td>6</td>\n",
       "      <td>short</td>\n",
       "      <td>ATL-PWM</td>\n",
       "      <td>0</td>\n",
       "    </tr>\n",
       "    <tr>\n",
       "      <th>4</th>\n",
       "      <td>2019-04-08</td>\n",
       "      <td>AA</td>\n",
       "      <td>N679AW</td>\n",
       "      <td>PHX</td>\n",
       "      <td>Phoenix, AZ</td>\n",
       "      <td>BOI</td>\n",
       "      <td>Boise, ID</td>\n",
       "      <td>2021</td>\n",
       "      <td>2015.0</td>\n",
       "      <td>-6.0</td>\n",
       "      <td>...</td>\n",
       "      <td>0.0</td>\n",
       "      <td>0.0</td>\n",
       "      <td>0.0</td>\n",
       "      <td>0.0</td>\n",
       "      <td>American Airlines</td>\n",
       "      <td>4</td>\n",
       "      <td>0</td>\n",
       "      <td>short</td>\n",
       "      <td>PHX-BOI</td>\n",
       "      <td>0</td>\n",
       "    </tr>\n",
       "  </tbody>\n",
       "</table>\n",
       "<p>5 rows × 34 columns</p>\n",
       "</div>"
      ],
      "text/plain": [
       "     fl_date mkt_unique_carrier tail_num origin origin_city_name dest  \\\n",
       "0 2018-05-04                 DL   N754EV    BOS       Boston, MA  RIC   \n",
       "1 2019-12-09                 UA   N828UA    MSY  New Orleans, LA  EWR   \n",
       "2 2019-12-20                 AA   N763US    CLT    Charlotte, NC  SAT   \n",
       "3 2019-07-14                 DL   N961DL    ATL      Atlanta, GA  PWM   \n",
       "4 2019-04-08                 AA   N679AW    PHX      Phoenix, AZ  BOI   \n",
       "\n",
       "    dest_city_name  crs_dep_time  dep_time  dep_delay  ...  weather_delay  \\\n",
       "0     Richmond, VA          1455    1453.0       -2.0  ...            0.0   \n",
       "1       Newark, NJ          1515    1757.0      162.0  ...            0.0   \n",
       "2  San Antonio, TX          1610    1630.0       20.0  ...            0.0   \n",
       "3     Portland, ME          2114    2114.0        0.0  ...            0.0   \n",
       "4        Boise, ID          2021    2015.0       -6.0  ...            0.0   \n",
       "\n",
       "   nas_delay  security_delay  late_aircraft_delay            carrier  month  \\\n",
       "0        0.0             0.0                  0.0    Delta Air Lines      5   \n",
       "1      178.0             0.0                  0.0    United Airlines     12   \n",
       "2        0.0             0.0                  0.0  American Airlines     12   \n",
       "3        0.0             0.0                  0.0    Delta Air Lines      7   \n",
       "4        0.0             0.0                  0.0  American Airlines      4   \n",
       "\n",
       "   day_of_week  haul_length    route  flight_delayed  \n",
       "0            4        short  BOS-RIC               0  \n",
       "1            0        short  MSY-EWR               1  \n",
       "2            4        short  CLT-SAT               1  \n",
       "3            6        short  ATL-PWM               0  \n",
       "4            0        short  PHX-BOI               0  \n",
       "\n",
       "[5 rows x 34 columns]"
      ]
     },
     "execution_count": 17,
     "metadata": {},
     "output_type": "execute_result"
    }
   ],
   "source": [
    "df_flights.head() "
   ]
  },
  {
   "cell_type": "markdown",
   "metadata": {},
   "source": [
    "## Passengers Dataset\n",
    "No missing values in Passengers"
   ]
  },
  {
   "cell_type": "code",
   "execution_count": 18,
   "metadata": {},
   "outputs": [
    {
     "data": {
      "text/plain": [
       "departures_scheduled     0\n",
       "departures_performed     0\n",
       "payload                  0\n",
       "seats                    0\n",
       "passengers               0\n",
       "freight                  0\n",
       "mail                     0\n",
       "distance                 0\n",
       "ramp_to_ramp             0\n",
       "air_time                 0\n",
       "unique_carrier           0\n",
       "airline_id               0\n",
       "unique_carrier_name      0\n",
       "region                   0\n",
       "carrier                  0\n",
       "carrier_name             0\n",
       "carrier_group            0\n",
       "carrier_group_new        0\n",
       "origin_airport_id        0\n",
       "origin_city_market_id    0\n",
       "origin                   0\n",
       "origin_city_name         0\n",
       "origin_country           0\n",
       "origin_country_name      0\n",
       "dest_airport_id          0\n",
       "dest_city_market_id      0\n",
       "dest                     0\n",
       "dest_city_name           0\n",
       "dest_country             0\n",
       "dest_country_name        0\n",
       "aircraft_group           0\n",
       "aircraft_type            0\n",
       "aircraft_config          0\n",
       "year                     0\n",
       "month                    0\n",
       "distance_group           0\n",
       "class                    0\n",
       "data_source              0\n",
       "dtype: int64"
      ]
     },
     "execution_count": 18,
     "metadata": {},
     "output_type": "execute_result"
    }
   ],
   "source": [
    "df_passengers.isnull().sum()"
   ]
  },
  {
   "cell_type": "markdown",
   "metadata": {},
   "source": [
    "## Fuel Consumption Dataset\n",
    "Drop rows with missing data in fuel consumption (25 values in 3035 rows)"
   ]
  },
  {
   "cell_type": "code",
   "execution_count": 19,
   "metadata": {},
   "outputs": [],
   "source": [
    "df_fuel = df_fuel.dropna()"
   ]
  },
  {
   "cell_type": "markdown",
   "metadata": {},
   "source": [
    "## Data Loss"
   ]
  },
  {
   "cell_type": "code",
   "execution_count": 20,
   "metadata": {},
   "outputs": [
    {
     "name": "stdout",
     "output_type": "stream",
     "text": [
      "Flights data lost in percent: 2.06%\n",
      "Passengers data lost in percent: 0.0%\n",
      "Fuel data lost in percent: 0.33%\n"
     ]
    }
   ],
   "source": [
    "# Data Loss\n",
    "\n",
    "# Flights\n",
    "flights_raw_len = len(df_flights_raw)\n",
    "flights_clean_len = len(df_flights)\n",
    "flights_data_loss = round(((flights_raw_len - flights_clean_len)/flights_raw_len  * 100), 2)\n",
    "print(f'Flights data lost in percent: {flights_data_loss}%')\n",
    "\n",
    "# Passengers\n",
    "passengers_raw_len = len(df_passengers_raw)\n",
    "passengers_clean_len = len(df_passengers)\n",
    "passengers_data_loss = round(((passengers_raw_len - passengers_clean_len)/passengers_raw_len  * 100), 2)\n",
    "print(f'Passengers data lost in percent: {passengers_data_loss}%')\n",
    "\n",
    "# Fuel Consumption\n",
    "fuel_raw_len = len(df_fuel_raw)\n",
    "fuel_clean_len = len(df_fuel)\n",
    "fuel_data_loss = round(((fuel_raw_len - fuel_clean_len)/fuel_raw_len  * 100), 2)\n",
    "print(f'Fuel data lost in percent: {fuel_data_loss}%')"
   ]
  },
  {
   "cell_type": "markdown",
   "metadata": {},
   "source": [
    "## Export Cleaned Data"
   ]
  },
  {
   "cell_type": "code",
   "execution_count": 21,
   "metadata": {},
   "outputs": [],
   "source": [
    "df_flights.to_csv(\"data/flights.csv\", index=False)\n",
    "df_passengers.to_csv(\"data/passengers.csv\", index=False)\n",
    "df_fuel.to_csv(\"data/fuel.csv\", index=False)"
   ]
  },
  {
   "cell_type": "code",
   "execution_count": null,
   "metadata": {},
   "outputs": [],
   "source": []
  }
 ],
 "metadata": {
  "kernelspec": {
   "display_name": "Python 3",
   "language": "python",
   "name": "python3"
  },
  "language_info": {
   "codemirror_mode": {
    "name": "ipython",
    "version": 3
   },
   "file_extension": ".py",
   "mimetype": "text/x-python",
   "name": "python",
   "nbconvert_exporter": "python",
   "pygments_lexer": "ipython3",
   "version": "3.8.12"
  },
  "toc": {
   "base_numbering": 1,
   "nav_menu": {},
   "number_sections": true,
   "sideBar": true,
   "skip_h1_title": false,
   "title_cell": "Table of Contents",
   "title_sidebar": "Contents",
   "toc_cell": false,
   "toc_position": {},
   "toc_section_display": true,
   "toc_window_display": false
  },
  "varInspector": {
   "cols": {
    "lenName": 16,
    "lenType": 16,
    "lenVar": 40
   },
   "kernels_config": {
    "python": {
     "delete_cmd_postfix": "",
     "delete_cmd_prefix": "del ",
     "library": "var_list.py",
     "varRefreshCmd": "print(var_dic_list())"
    },
    "r": {
     "delete_cmd_postfix": ") ",
     "delete_cmd_prefix": "rm(",
     "library": "var_list.r",
     "varRefreshCmd": "cat(var_dic_list()) "
    }
   },
   "types_to_exclude": [
    "module",
    "function",
    "builtin_function_or_method",
    "instance",
    "_Feature"
   ],
   "window_display": false
  }
 },
 "nbformat": 4,
 "nbformat_minor": 4
}
