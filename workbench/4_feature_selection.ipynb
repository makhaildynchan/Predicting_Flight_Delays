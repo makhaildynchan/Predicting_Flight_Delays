{
 "cells": [
  {
   "cell_type": "markdown",
   "metadata": {},
   "source": [
    "## `Flight Delay Prediction`\n",
    "### **Part 2:** Data Cleaning and Feature Selection\n",
    "\n",
    "Ali Bahrami"
   ]
  },
  {
   "cell_type": "code",
   "execution_count": 6,
   "metadata": {},
   "outputs": [],
   "source": [
    "import numpy as np\n",
    "import pandas as pd\n"
   ]
  },
  {
   "cell_type": "code",
   "execution_count": 7,
   "metadata": {},
   "outputs": [],
   "source": [
    "# Read from extracted data\n",
    "df_flights = pd.read_csv(\"data/flights.csv\")"
   ]
  },
  {
   "cell_type": "markdown",
   "metadata": {},
   "source": [
    "## Drop Unnecessary Columns "
   ]
  },
  {
   "cell_type": "markdown",
   "metadata": {},
   "source": [
    "Drop the columns that we will not be using in the modeling"
   ]
  },
  {
   "cell_type": "code",
   "execution_count": 9,
   "metadata": {},
   "outputs": [],
   "source": [
    "cols = ['fl_date', 'mkt_unique_carrier', 'tail_num',\n",
    "       'origin_city_name', 'dest_city_name',\n",
    "       'dep_time', 'taxi_out', 'wheels_off', 'wheels_on',\n",
    "       'taxi_in', 'arr_time', 'cancelled', 'dup',\n",
    "       'actual_elapsed_time',\n",
    "       'carrier_delay', 'weather_delay', 'nas_delay', 'security_delay',\n",
    "       'late_aircraft_delay',\n",
    "       'haul_length', 'route']\n",
    "df_flights = df_flights.drop(columns=cols)"
   ]
  },
  {
   "cell_type": "code",
   "execution_count": 10,
   "metadata": {},
   "outputs": [
    {
     "data": {
      "text/html": [
       "<div>\n",
       "<style scoped>\n",
       "    .dataframe tbody tr th:only-of-type {\n",
       "        vertical-align: middle;\n",
       "    }\n",
       "\n",
       "    .dataframe tbody tr th {\n",
       "        vertical-align: top;\n",
       "    }\n",
       "\n",
       "    .dataframe thead th {\n",
       "        text-align: right;\n",
       "    }\n",
       "</style>\n",
       "<table border=\"1\" class=\"dataframe\">\n",
       "  <thead>\n",
       "    <tr style=\"text-align: right;\">\n",
       "      <th></th>\n",
       "      <th>origin</th>\n",
       "      <th>dest</th>\n",
       "      <th>crs_dep_time</th>\n",
       "      <th>dep_delay</th>\n",
       "      <th>crs_arr_time</th>\n",
       "      <th>arr_delay</th>\n",
       "      <th>crs_elapsed_time</th>\n",
       "      <th>air_time</th>\n",
       "      <th>distance</th>\n",
       "      <th>carrier</th>\n",
       "      <th>month</th>\n",
       "      <th>day_of_week</th>\n",
       "      <th>flight_delayed</th>\n",
       "    </tr>\n",
       "  </thead>\n",
       "  <tbody>\n",
       "    <tr>\n",
       "      <th>0</th>\n",
       "      <td>BOS</td>\n",
       "      <td>RIC</td>\n",
       "      <td>1455</td>\n",
       "      <td>-2.0</td>\n",
       "      <td>1649</td>\n",
       "      <td>-14.0</td>\n",
       "      <td>114.0</td>\n",
       "      <td>78.0</td>\n",
       "      <td>474.0</td>\n",
       "      <td>Delta Air Lines</td>\n",
       "      <td>5</td>\n",
       "      <td>4</td>\n",
       "      <td>0</td>\n",
       "    </tr>\n",
       "    <tr>\n",
       "      <th>1</th>\n",
       "      <td>MSY</td>\n",
       "      <td>EWR</td>\n",
       "      <td>1515</td>\n",
       "      <td>162.0</td>\n",
       "      <td>1903</td>\n",
       "      <td>178.0</td>\n",
       "      <td>168.0</td>\n",
       "      <td>136.0</td>\n",
       "      <td>1167.0</td>\n",
       "      <td>United Airlines</td>\n",
       "      <td>12</td>\n",
       "      <td>0</td>\n",
       "      <td>1</td>\n",
       "    </tr>\n",
       "    <tr>\n",
       "      <th>2</th>\n",
       "      <td>CLT</td>\n",
       "      <td>SAT</td>\n",
       "      <td>1610</td>\n",
       "      <td>20.0</td>\n",
       "      <td>1822</td>\n",
       "      <td>19.0</td>\n",
       "      <td>192.0</td>\n",
       "      <td>171.0</td>\n",
       "      <td>1095.0</td>\n",
       "      <td>American Airlines</td>\n",
       "      <td>12</td>\n",
       "      <td>4</td>\n",
       "      <td>1</td>\n",
       "    </tr>\n",
       "    <tr>\n",
       "      <th>3</th>\n",
       "      <td>ATL</td>\n",
       "      <td>PWM</td>\n",
       "      <td>2114</td>\n",
       "      <td>0.0</td>\n",
       "      <td>2355</td>\n",
       "      <td>-14.0</td>\n",
       "      <td>161.0</td>\n",
       "      <td>133.0</td>\n",
       "      <td>1027.0</td>\n",
       "      <td>Delta Air Lines</td>\n",
       "      <td>7</td>\n",
       "      <td>6</td>\n",
       "      <td>0</td>\n",
       "    </tr>\n",
       "    <tr>\n",
       "      <th>4</th>\n",
       "      <td>PHX</td>\n",
       "      <td>BOI</td>\n",
       "      <td>2021</td>\n",
       "      <td>-6.0</td>\n",
       "      <td>2330</td>\n",
       "      <td>-14.0</td>\n",
       "      <td>129.0</td>\n",
       "      <td>101.0</td>\n",
       "      <td>735.0</td>\n",
       "      <td>American Airlines</td>\n",
       "      <td>4</td>\n",
       "      <td>0</td>\n",
       "      <td>0</td>\n",
       "    </tr>\n",
       "  </tbody>\n",
       "</table>\n",
       "</div>"
      ],
      "text/plain": [
       "  origin dest  crs_dep_time  dep_delay  crs_arr_time  arr_delay  \\\n",
       "0    BOS  RIC          1455       -2.0          1649      -14.0   \n",
       "1    MSY  EWR          1515      162.0          1903      178.0   \n",
       "2    CLT  SAT          1610       20.0          1822       19.0   \n",
       "3    ATL  PWM          2114        0.0          2355      -14.0   \n",
       "4    PHX  BOI          2021       -6.0          2330      -14.0   \n",
       "\n",
       "   crs_elapsed_time  air_time  distance            carrier  month  \\\n",
       "0             114.0      78.0     474.0    Delta Air Lines      5   \n",
       "1             168.0     136.0    1167.0    United Airlines     12   \n",
       "2             192.0     171.0    1095.0  American Airlines     12   \n",
       "3             161.0     133.0    1027.0    Delta Air Lines      7   \n",
       "4             129.0     101.0     735.0  American Airlines      4   \n",
       "\n",
       "   day_of_week  flight_delayed  \n",
       "0            4               0  \n",
       "1            0               1  \n",
       "2            4               1  \n",
       "3            6               0  \n",
       "4            0               0  "
      ]
     },
     "execution_count": 10,
     "metadata": {},
     "output_type": "execute_result"
    }
   ],
   "source": [
    "df_flights.head()"
   ]
  },
  {
   "cell_type": "code",
   "execution_count": 15,
   "metadata": {},
   "outputs": [
    {
     "data": {
      "text/plain": [
       "Index(['origin', 'dest', 'crs_dep_time', 'dep_delay', 'crs_arr_time',\n",
       "       'arr_delay', 'crs_elapsed_time', 'air_time', 'distance', 'carrier',\n",
       "       'month', 'day_of_week', 'flight_delayed'],\n",
       "      dtype='object')"
      ]
     },
     "execution_count": 15,
     "metadata": {},
     "output_type": "execute_result"
    }
   ],
   "source": [
    "# can you categorize carrier, month, day_of_week,\n",
    "# can you bin 'crs_dep_time', 'crs_arr_time' into bins of 6hrs\n",
    "# drop the origin, dest (too many airports to be able to include in model)\n",
    "# flight_delayed is just arr_delayed encoded into 1s and 0s\n",
    "# drop arr_delay\n",
    "# do not drop dep_delay cuz we want to look how our model performs with and without it\n",
    "df_flights.columns"
   ]
  },
  {
   "cell_type": "code",
   "execution_count": 13,
   "metadata": {},
   "outputs": [
    {
     "data": {
      "text/html": [
       "<div>\n",
       "<style scoped>\n",
       "    .dataframe tbody tr th:only-of-type {\n",
       "        vertical-align: middle;\n",
       "    }\n",
       "\n",
       "    .dataframe tbody tr th {\n",
       "        vertical-align: top;\n",
       "    }\n",
       "\n",
       "    .dataframe thead th {\n",
       "        text-align: right;\n",
       "    }\n",
       "</style>\n",
       "<table border=\"1\" class=\"dataframe\">\n",
       "  <thead>\n",
       "    <tr style=\"text-align: right;\">\n",
       "      <th></th>\n",
       "      <th>origin</th>\n",
       "      <th>dest</th>\n",
       "      <th>crs_dep_time</th>\n",
       "      <th>dep_delay</th>\n",
       "      <th>crs_arr_time</th>\n",
       "      <th>arr_delay</th>\n",
       "      <th>crs_elapsed_time</th>\n",
       "      <th>air_time</th>\n",
       "      <th>distance</th>\n",
       "      <th>carrier</th>\n",
       "      <th>month</th>\n",
       "      <th>day_of_week</th>\n",
       "      <th>flight_delayed</th>\n",
       "    </tr>\n",
       "  </thead>\n",
       "  <tbody>\n",
       "    <tr>\n",
       "      <th>0</th>\n",
       "      <td>BOS</td>\n",
       "      <td>RIC</td>\n",
       "      <td>1455</td>\n",
       "      <td>-2.0</td>\n",
       "      <td>1649</td>\n",
       "      <td>-14.0</td>\n",
       "      <td>114.0</td>\n",
       "      <td>78.0</td>\n",
       "      <td>474.0</td>\n",
       "      <td>Delta Air Lines</td>\n",
       "      <td>5</td>\n",
       "      <td>4</td>\n",
       "      <td>0</td>\n",
       "    </tr>\n",
       "    <tr>\n",
       "      <th>1</th>\n",
       "      <td>MSY</td>\n",
       "      <td>EWR</td>\n",
       "      <td>1515</td>\n",
       "      <td>162.0</td>\n",
       "      <td>1903</td>\n",
       "      <td>178.0</td>\n",
       "      <td>168.0</td>\n",
       "      <td>136.0</td>\n",
       "      <td>1167.0</td>\n",
       "      <td>United Airlines</td>\n",
       "      <td>12</td>\n",
       "      <td>0</td>\n",
       "      <td>1</td>\n",
       "    </tr>\n",
       "    <tr>\n",
       "      <th>2</th>\n",
       "      <td>CLT</td>\n",
       "      <td>SAT</td>\n",
       "      <td>1610</td>\n",
       "      <td>20.0</td>\n",
       "      <td>1822</td>\n",
       "      <td>19.0</td>\n",
       "      <td>192.0</td>\n",
       "      <td>171.0</td>\n",
       "      <td>1095.0</td>\n",
       "      <td>American Airlines</td>\n",
       "      <td>12</td>\n",
       "      <td>4</td>\n",
       "      <td>1</td>\n",
       "    </tr>\n",
       "    <tr>\n",
       "      <th>3</th>\n",
       "      <td>ATL</td>\n",
       "      <td>PWM</td>\n",
       "      <td>2114</td>\n",
       "      <td>0.0</td>\n",
       "      <td>2355</td>\n",
       "      <td>-14.0</td>\n",
       "      <td>161.0</td>\n",
       "      <td>133.0</td>\n",
       "      <td>1027.0</td>\n",
       "      <td>Delta Air Lines</td>\n",
       "      <td>7</td>\n",
       "      <td>6</td>\n",
       "      <td>0</td>\n",
       "    </tr>\n",
       "    <tr>\n",
       "      <th>4</th>\n",
       "      <td>PHX</td>\n",
       "      <td>BOI</td>\n",
       "      <td>2021</td>\n",
       "      <td>-6.0</td>\n",
       "      <td>2330</td>\n",
       "      <td>-14.0</td>\n",
       "      <td>129.0</td>\n",
       "      <td>101.0</td>\n",
       "      <td>735.0</td>\n",
       "      <td>American Airlines</td>\n",
       "      <td>4</td>\n",
       "      <td>0</td>\n",
       "      <td>0</td>\n",
       "    </tr>\n",
       "  </tbody>\n",
       "</table>\n",
       "</div>"
      ],
      "text/plain": [
       "  origin dest  crs_dep_time  dep_delay  crs_arr_time  arr_delay  \\\n",
       "0    BOS  RIC          1455       -2.0          1649      -14.0   \n",
       "1    MSY  EWR          1515      162.0          1903      178.0   \n",
       "2    CLT  SAT          1610       20.0          1822       19.0   \n",
       "3    ATL  PWM          2114        0.0          2355      -14.0   \n",
       "4    PHX  BOI          2021       -6.0          2330      -14.0   \n",
       "\n",
       "   crs_elapsed_time  air_time  distance            carrier  month  \\\n",
       "0             114.0      78.0     474.0    Delta Air Lines      5   \n",
       "1             168.0     136.0    1167.0    United Airlines     12   \n",
       "2             192.0     171.0    1095.0  American Airlines     12   \n",
       "3             161.0     133.0    1027.0    Delta Air Lines      7   \n",
       "4             129.0     101.0     735.0  American Airlines      4   \n",
       "\n",
       "   day_of_week  flight_delayed  \n",
       "0            4               0  \n",
       "1            0               1  \n",
       "2            4               1  \n",
       "3            6               0  \n",
       "4            0               0  "
      ]
     },
     "execution_count": 13,
     "metadata": {},
     "output_type": "execute_result"
    }
   ],
   "source": [
    "df_flights.head()"
   ]
  },
  {
   "cell_type": "markdown",
   "metadata": {},
   "source": [
    "## Export Cleaned Data"
   ]
  },
  {
   "cell_type": "code",
   "execution_count": 16,
   "metadata": {},
   "outputs": [],
   "source": [
    "df_flights.to_csv(\"data/modeling.csv\", index=False)"
   ]
  },
  {
   "cell_type": "code",
   "execution_count": null,
   "metadata": {},
   "outputs": [],
   "source": []
  }
 ],
 "metadata": {
  "kernelspec": {
   "display_name": "Python 3",
   "language": "python",
   "name": "python3"
  },
  "language_info": {
   "codemirror_mode": {
    "name": "ipython",
    "version": 3
   },
   "file_extension": ".py",
   "mimetype": "text/x-python",
   "name": "python",
   "nbconvert_exporter": "python",
   "pygments_lexer": "ipython3",
   "version": "3.8.12"
  },
  "toc": {
   "base_numbering": 1,
   "nav_menu": {},
   "number_sections": true,
   "sideBar": true,
   "skip_h1_title": false,
   "title_cell": "Table of Contents",
   "title_sidebar": "Contents",
   "toc_cell": false,
   "toc_position": {},
   "toc_section_display": true,
   "toc_window_display": false
  },
  "varInspector": {
   "cols": {
    "lenName": 16,
    "lenType": 16,
    "lenVar": 40
   },
   "kernels_config": {
    "python": {
     "delete_cmd_postfix": "",
     "delete_cmd_prefix": "del ",
     "library": "var_list.py",
     "varRefreshCmd": "print(var_dic_list())"
    },
    "r": {
     "delete_cmd_postfix": ") ",
     "delete_cmd_prefix": "rm(",
     "library": "var_list.r",
     "varRefreshCmd": "cat(var_dic_list()) "
    }
   },
   "types_to_exclude": [
    "module",
    "function",
    "builtin_function_or_method",
    "instance",
    "_Feature"
   ],
   "window_display": false
  }
 },
 "nbformat": 4,
 "nbformat_minor": 4
}
