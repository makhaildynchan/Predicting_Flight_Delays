{
 "cells": [
  {
   "cell_type": "markdown",
   "metadata": {},
   "source": [
    "## Predicting Flight Delays\n",
    "### Exploratory Data Analysis\n",
    "Team: Ali, Khaildyn, Mobola\n",
    "## Task 9\n"
   ]
  },
  {
   "cell_type": "code",
   "execution_count": 1,
   "metadata": {},
   "outputs": [],
   "source": [
    "import numpy as np\n",
    "import pandas as pd\n",
    "import matplotlib as mpl\n",
    "import matplotlib.pyplot as plt\n",
    "import seaborn as sns\n",
    "import plotly.graph_objects as go\n",
    "\n",
    "%matplotlib inline"
   ]
  },
  {
   "cell_type": "code",
   "execution_count": 2,
   "metadata": {},
   "outputs": [],
   "source": [
    "# Read files\n",
    "flights_df = pd.read_csv(\"data/flights.csv\")\n",
    "passengers_df = pd.read_csv(\"data/passengers.csv\")"
   ]
  },
  {
   "cell_type": "markdown",
   "metadata": {},
   "source": [
    "#### **Task 9**: Find the top 10 the bussiest airports. Does the biggest number of flights mean that the biggest number of passengers went through the particular airport? How much traffic do these 10 airports cover?"
   ]
  },
  {
   "cell_type": "code",
   "execution_count": 3,
   "metadata": {},
   "outputs": [
    {
     "data": {
      "text/plain": [
       "origin\n",
       "ATL    9760\n",
       "ORD    9545\n",
       "DFW    7309\n",
       "DEN    6728\n",
       "LAX    6171\n",
       "SEA    4803\n",
       "SFO    4336\n",
       "LAS    4099\n",
       "MCO    3474\n",
       "JFK    3187\n",
       "Name: fl_date, dtype: int64"
      ]
     },
     "execution_count": 3,
     "metadata": {},
     "output_type": "execute_result"
    }
   ],
   "source": [
    "orig_flights = flights_df.filter(['origin', 'fl_date'])\n",
    "flights_name = flights_df[(flights_df['origin'] == 'ATL') | (flights_df['origin'] == 'LAX')| (flights_df['origin'] == 'ORD')| (flights_df['origin'] == 'DFW')| (flights_df['origin'] == 'DEN')| (flights_df['origin'] == 'JFK')| (flights_df['origin'] == 'SFO')| (flights_df['origin'] == 'LAS')| (flights_df['origin'] == 'SEA')| (flights_df['origin'] == 'MCO')]\n",
    "flights_name = flights_name.groupby('origin')['fl_date'].count().sort_values(ascending=False).head(10)\n",
    "flights_name"
   ]
  },
  {
   "cell_type": "code",
   "execution_count": 4,
   "metadata": {},
   "outputs": [
    {
     "data": {
      "text/plain": [
       "origin\n",
       "ATL    21594409.0\n",
       "LAX    17060595.0\n",
       "ORD    16595760.0\n",
       "DFW    14400548.0\n",
       "DEN    13051456.0\n",
       "          ...    \n",
       "MCF           0.0\n",
       "ILN           0.0\n",
       "SQA           0.0\n",
       "SBD           0.0\n",
       "LGG           0.0\n",
       "Name: passengers, Length: 1640, dtype: float64"
      ]
     },
     "execution_count": 4,
     "metadata": {},
     "output_type": "execute_result"
    }
   ],
   "source": [
    "passengers_df.groupby('origin')['passengers'].sum().sort_values(ascending=False)\n"
   ]
  },
  {
   "cell_type": "code",
   "execution_count": 5,
   "metadata": {},
   "outputs": [],
   "source": [
    "passengers_origin = pd.DataFrame(passengers_df.groupby('origin')['passengers'].sum().reset_index()).rename({'passengers': 'total_passengers'}, axis=1)\n",
    "passengers_origin = passengers_origin.sort_values(by='total_passengers', ascending=False).head(10)"
   ]
  },
  {
   "cell_type": "code",
   "execution_count": 6,
   "metadata": {},
   "outputs": [
    {
     "name": "stderr",
     "output_type": "stream",
     "text": [
      "/Users/foreverrefugee/opt/anaconda3/lib/python3.8/site-packages/seaborn/_decorators.py:36: FutureWarning: Pass the following variables as keyword args: x, y. From version 0.12, the only valid positional argument will be `data`, and passing other arguments without an explicit keyword will result in an error or misinterpretation.\n",
      "  warnings.warn(\n"
     ]
    },
    {
     "data": {
      "image/png": "[encoded data removed]",
      "text/plain": [
       "<Figure size 1080x432 with 2 Axes>"
      ]
     },
     "metadata": {
      "needs_background": "light"
     },
     "output_type": "display_data"
    }
   ],
   "source": [
    "import matplotlib.ticker as ticker\n",
    "@ticker.FuncFormatter\n",
    "def million_formatter(x, pos):\n",
    "    return \"%.1f M\" % (x/1E6)\n",
    "f, axes = plt.subplots(1, 2, figsize=(15,6))\n",
    "ax1 = sns.barplot(x='origin', y='total_passengers', data=passengers_origin, ax=axes[0], palette=\"tab10\")\n",
    "ax1.yaxis.set_major_formatter(million_formatter)\n",
    "ax1.tick_params(axis='x', rotation=45)\n",
    "plt.subplots_adjust(hspace=0.4, wspace=0.4)\n",
    "ax2 = sns.barplot(flights_name.index, flights_name.values,ax=axes[1])\n",
    "plt.xticks(rotation=45)\n",
    "ax1.set(title='Flights Origin vs Total passengers', xlabel='Origin', ylabel='Number of Passengers')\n",
    "ax2.set(title='Number of Flights per Origin', xlabel='Origin', ylabel='Flights');"
   ]
  },
  {
   "cell_type": "code",
   "execution_count": null,
   "metadata": {},
   "outputs": [],
   "source": []
  }
 ],
 "metadata": {
  "kernelspec": {
   "display_name": "Python 3",
   "language": "python",
   "name": "python3"
  },
  "language_info": {
   "codemirror_mode": {
    "name": "ipython",
    "version": 3
   },
   "file_extension": ".py",
   "mimetype": "text/x-python",
   "name": "python",
   "nbconvert_exporter": "python",
   "pygments_lexer": "ipython3",
   "version": "3.8.12"
  },
  "toc": {
   "base_numbering": 1,
   "nav_menu": {},
   "number_sections": true,
   "sideBar": true,
   "skip_h1_title": false,
   "title_cell": "Table of Contents",
   "title_sidebar": "Contents",
   "toc_cell": false,
   "toc_position": {},
   "toc_section_display": true,
   "toc_window_display": false
  },
  "varInspector": {
   "cols": {
    "lenName": 16,
    "lenType": 16,
    "lenVar": 40
   },
   "kernels_config": {
    "python": {
     "delete_cmd_postfix": "",
     "delete_cmd_prefix": "del ",
     "library": "var_list.py",
     "varRefreshCmd": "print(var_dic_list())"
    },
    "r": {
     "delete_cmd_postfix": ") ",
     "delete_cmd_prefix": "rm(",
     "library": "var_list.r",
     "varRefreshCmd": "cat(var_dic_list()) "
    }
   },
   "types_to_exclude": [
    "module",
    "function",
    "builtin_function_or_method",
    "instance",
    "_Feature"
   ],
   "window_display": false
  }
 },
 "nbformat": 4,
 "nbformat_minor": 4
}
