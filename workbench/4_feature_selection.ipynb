{
 "cells": [
  {
   "cell_type": "markdown",
   "metadata": {},
   "source": [
    "## `Flight Delay Prediction`\n",
    "### **Part 2:** Data Cleaning and Feature Selection\n",
    "\n",
    "Ali Bahrami"
   ]
  },
  {
   "cell_type": "code",
   "execution_count": 6,
   "metadata": {},
   "outputs": [],
   "source": [
    "import numpy as np\n",
    "import pandas as pd\n",
    "import matplotlib as mpl\n",
    "import matplotlib.pyplot as plt\n",
    "import seaborn as sns\n",
    "import plotly.graph_objects as go\n",
    "\n",
    "%matplotlib inline\n"
   ]
  },
  {
   "cell_type": "code",
   "execution_count": 30,
   "metadata": {},
   "outputs": [],
   "source": [
    "# Read from extracted data\n",
    "# Note: Null values have already been treated during the prepocessing for EDA\n",
    "df_flights = pd.read_csv(\"data/flights.csv\")"
   ]
  },
  {
   "cell_type": "markdown",
   "metadata": {},
   "source": [
    "### Outlier Treatment"
   ]
  },
  {
   "cell_type": "code",
   "execution_count": 31,
   "metadata": {},
   "outputs": [
    {
     "data": {
      "text/plain": [
       "Text(0.5, 1.0, 'Arrival Delays without Outlier Treatment')"
      ]
     },
     "execution_count": 31,
     "metadata": {},
     "output_type": "execute_result"
    },
    {
     "data": {
      "image/png": "[encoded data removed]",
      "text/plain": [
       "<Figure size 720x360 with 1 Axes>"
      ]
     },
     "metadata": {
      "needs_background": "light"
     },
     "output_type": "display_data"
    }
   ],
   "source": [
    "# From EDA Task one\n",
    "# Arrival Delays without Outlier Treatment\n",
    "fig, ax = plt.subplots(figsize = (10,5))\n",
    "ax.set_ylabel('Density (Number of flights)')\n",
    "ax.set_xlabel('Delay (minutes)')\n",
    "\n",
    "sns.histplot(df_flights, x=\"arr_delay\").set_title(\"Arrival Delays without Outlier Treatment\", size=12)"
   ]
  },
  {
   "cell_type": "code",
   "execution_count": 32,
   "metadata": {},
   "outputs": [
    {
     "data": {
      "text/plain": [
       "count    195872.000000\n",
       "mean          5.328388\n",
       "std          49.285795\n",
       "min         -70.000000\n",
       "25%         -15.000000\n",
       "50%          -6.000000\n",
       "75%           8.000000\n",
       "max        2206.000000\n",
       "Name: arr_delay, dtype: float64"
      ]
     },
     "execution_count": 32,
     "metadata": {},
     "output_type": "execute_result"
    }
   ],
   "source": [
    "df_flights.arr_delay.describe()"
   ]
  },
  {
   "cell_type": "code",
   "execution_count": 33,
   "metadata": {},
   "outputs": [
    {
     "name": "stdout",
     "output_type": "stream",
     "text": [
      "153.18577270733118\n",
      "-142.5289968537125\n"
     ]
    }
   ],
   "source": [
    "# We will see an upper limit and lower limit using 3 standard deviations.\n",
    "# Every data point that lies beyond the upper limit and lower limit will be an outlier.\n",
    "upper = df_flights.arr_delay.mean() + 3*df_flights.arr_delay.std()\n",
    "lower = df_flights.arr_delay.mean() -3*df_flights.arr_delay.std()\n",
    "print(upper)\n",
    "print(lower)\n"
   ]
  },
  {
   "cell_type": "code",
   "execution_count": 34,
   "metadata": {},
   "outputs": [
    {
     "data": {
      "text/html": [
       "<div>\n",
       "<style scoped>\n",
       "    .dataframe tbody tr th:only-of-type {\n",
       "        vertical-align: middle;\n",
       "    }\n",
       "\n",
       "    .dataframe tbody tr th {\n",
       "        vertical-align: top;\n",
       "    }\n",
       "\n",
       "    .dataframe thead th {\n",
       "        text-align: right;\n",
       "    }\n",
       "</style>\n",
       "<table border=\"1\" class=\"dataframe\">\n",
       "  <thead>\n",
       "    <tr style=\"text-align: right;\">\n",
       "      <th></th>\n",
       "      <th>fl_date</th>\n",
       "      <th>mkt_unique_carrier</th>\n",
       "      <th>tail_num</th>\n",
       "      <th>origin</th>\n",
       "      <th>origin_city_name</th>\n",
       "      <th>dest</th>\n",
       "      <th>dest_city_name</th>\n",
       "      <th>crs_dep_time</th>\n",
       "      <th>dep_time</th>\n",
       "      <th>dep_delay</th>\n",
       "      <th>...</th>\n",
       "      <th>weather_delay</th>\n",
       "      <th>nas_delay</th>\n",
       "      <th>security_delay</th>\n",
       "      <th>late_aircraft_delay</th>\n",
       "      <th>carrier</th>\n",
       "      <th>month</th>\n",
       "      <th>day_of_week</th>\n",
       "      <th>haul_length</th>\n",
       "      <th>route</th>\n",
       "      <th>flight_delayed</th>\n",
       "    </tr>\n",
       "  </thead>\n",
       "  <tbody>\n",
       "    <tr>\n",
       "      <th>0</th>\n",
       "      <td>2018-05-04</td>\n",
       "      <td>DL</td>\n",
       "      <td>N754EV</td>\n",
       "      <td>BOS</td>\n",
       "      <td>Boston, MA</td>\n",
       "      <td>RIC</td>\n",
       "      <td>Richmond, VA</td>\n",
       "      <td>1455</td>\n",
       "      <td>1453.0</td>\n",
       "      <td>-2.0</td>\n",
       "      <td>...</td>\n",
       "      <td>0.0</td>\n",
       "      <td>0.0</td>\n",
       "      <td>0.0</td>\n",
       "      <td>0.0</td>\n",
       "      <td>Delta Air Lines</td>\n",
       "      <td>5</td>\n",
       "      <td>4</td>\n",
       "      <td>short</td>\n",
       "      <td>BOS-RIC</td>\n",
       "      <td>0</td>\n",
       "    </tr>\n",
       "    <tr>\n",
       "      <th>2</th>\n",
       "      <td>2019-12-20</td>\n",
       "      <td>AA</td>\n",
       "      <td>N763US</td>\n",
       "      <td>CLT</td>\n",
       "      <td>Charlotte, NC</td>\n",
       "      <td>SAT</td>\n",
       "      <td>San Antonio, TX</td>\n",
       "      <td>1610</td>\n",
       "      <td>1630.0</td>\n",
       "      <td>20.0</td>\n",
       "      <td>...</td>\n",
       "      <td>0.0</td>\n",
       "      <td>0.0</td>\n",
       "      <td>0.0</td>\n",
       "      <td>0.0</td>\n",
       "      <td>American Airlines</td>\n",
       "      <td>12</td>\n",
       "      <td>4</td>\n",
       "      <td>short</td>\n",
       "      <td>CLT-SAT</td>\n",
       "      <td>1</td>\n",
       "    </tr>\n",
       "    <tr>\n",
       "      <th>3</th>\n",
       "      <td>2019-07-14</td>\n",
       "      <td>DL</td>\n",
       "      <td>N961DL</td>\n",
       "      <td>ATL</td>\n",
       "      <td>Atlanta, GA</td>\n",
       "      <td>PWM</td>\n",
       "      <td>Portland, ME</td>\n",
       "      <td>2114</td>\n",
       "      <td>2114.0</td>\n",
       "      <td>0.0</td>\n",
       "      <td>...</td>\n",
       "      <td>0.0</td>\n",
       "      <td>0.0</td>\n",
       "      <td>0.0</td>\n",
       "      <td>0.0</td>\n",
       "      <td>Delta Air Lines</td>\n",
       "      <td>7</td>\n",
       "      <td>6</td>\n",
       "      <td>short</td>\n",
       "      <td>ATL-PWM</td>\n",
       "      <td>0</td>\n",
       "    </tr>\n",
       "    <tr>\n",
       "      <th>4</th>\n",
       "      <td>2019-04-08</td>\n",
       "      <td>AA</td>\n",
       "      <td>N679AW</td>\n",
       "      <td>PHX</td>\n",
       "      <td>Phoenix, AZ</td>\n",
       "      <td>BOI</td>\n",
       "      <td>Boise, ID</td>\n",
       "      <td>2021</td>\n",
       "      <td>2015.0</td>\n",
       "      <td>-6.0</td>\n",
       "      <td>...</td>\n",
       "      <td>0.0</td>\n",
       "      <td>0.0</td>\n",
       "      <td>0.0</td>\n",
       "      <td>0.0</td>\n",
       "      <td>American Airlines</td>\n",
       "      <td>4</td>\n",
       "      <td>0</td>\n",
       "      <td>short</td>\n",
       "      <td>PHX-BOI</td>\n",
       "      <td>0</td>\n",
       "    </tr>\n",
       "    <tr>\n",
       "      <th>5</th>\n",
       "      <td>2019-12-26</td>\n",
       "      <td>UA</td>\n",
       "      <td>N464UA</td>\n",
       "      <td>LAS</td>\n",
       "      <td>Las Vegas, NV</td>\n",
       "      <td>DEN</td>\n",
       "      <td>Denver, CO</td>\n",
       "      <td>1645</td>\n",
       "      <td>1641.0</td>\n",
       "      <td>-4.0</td>\n",
       "      <td>...</td>\n",
       "      <td>0.0</td>\n",
       "      <td>0.0</td>\n",
       "      <td>0.0</td>\n",
       "      <td>0.0</td>\n",
       "      <td>United Airlines</td>\n",
       "      <td>12</td>\n",
       "      <td>3</td>\n",
       "      <td>short</td>\n",
       "      <td>LAS-DEN</td>\n",
       "      <td>0</td>\n",
       "    </tr>\n",
       "  </tbody>\n",
       "</table>\n",
       "<p>5 rows × 34 columns</p>\n",
       "</div>"
      ],
      "text/plain": [
       "      fl_date mkt_unique_carrier tail_num origin origin_city_name dest  \\\n",
       "0  2018-05-04                 DL   N754EV    BOS       Boston, MA  RIC   \n",
       "2  2019-12-20                 AA   N763US    CLT    Charlotte, NC  SAT   \n",
       "3  2019-07-14                 DL   N961DL    ATL      Atlanta, GA  PWM   \n",
       "4  2019-04-08                 AA   N679AW    PHX      Phoenix, AZ  BOI   \n",
       "5  2019-12-26                 UA   N464UA    LAS    Las Vegas, NV  DEN   \n",
       "\n",
       "    dest_city_name  crs_dep_time  dep_time  dep_delay  ...  weather_delay  \\\n",
       "0     Richmond, VA          1455    1453.0       -2.0  ...            0.0   \n",
       "2  San Antonio, TX          1610    1630.0       20.0  ...            0.0   \n",
       "3     Portland, ME          2114    2114.0        0.0  ...            0.0   \n",
       "4        Boise, ID          2021    2015.0       -6.0  ...            0.0   \n",
       "5       Denver, CO          1645    1641.0       -4.0  ...            0.0   \n",
       "\n",
       "   nas_delay  security_delay  late_aircraft_delay            carrier  month  \\\n",
       "0        0.0             0.0                  0.0    Delta Air Lines      5   \n",
       "2        0.0             0.0                  0.0  American Airlines     12   \n",
       "3        0.0             0.0                  0.0    Delta Air Lines      7   \n",
       "4        0.0             0.0                  0.0  American Airlines      4   \n",
       "5        0.0             0.0                  0.0    United Airlines     12   \n",
       "\n",
       "   day_of_week  haul_length    route  flight_delayed  \n",
       "0            4        short  BOS-RIC               0  \n",
       "2            4        short  CLT-SAT               1  \n",
       "3            6        short  ATL-PWM               0  \n",
       "4            0        short  PHX-BOI               0  \n",
       "5            3        short  LAS-DEN               0  \n",
       "\n",
       "[5 rows x 34 columns]"
      ]
     },
     "execution_count": 34,
     "metadata": {},
     "output_type": "execute_result"
    }
   ],
   "source": [
    "## Filter out the outliers\n",
    "df_flights = df_flights[(df_flights.arr_delay<upper) & (df_flights.arr_delay>lower)]\n",
    "df_flights.head()"
   ]
  },
  {
   "cell_type": "code",
   "execution_count": 35,
   "metadata": {},
   "outputs": [
    {
     "data": {
      "text/plain": [
       "Text(0.5, 1.0, 'Arrival Delays  Post-outlier Treatment')"
      ]
     },
     "execution_count": 35,
     "metadata": {},
     "output_type": "execute_result"
    },
    {
     "data": {
      "image/png": "[encoded data removed]",
      "text/plain": [
       "<Figure size 720x360 with 1 Axes>"
      ]
     },
     "metadata": {
      "needs_background": "light"
     },
     "output_type": "display_data"
    }
   ],
   "source": [
    "# Arrival Delays Post-outlier Treatment\n",
    "fig, ax = plt.subplots(figsize = (10,5))\n",
    "ax.set_ylabel('Density (Number of flights)')\n",
    "ax.set_xlabel('Delay (minutes)')\n",
    "\n",
    "sns.histplot(df_flights, x=\"arr_delay\").set_title(\"Arrival Delays  Post-outlier Treatment\", size=12)"
   ]
  },
  {
   "cell_type": "code",
   "execution_count": 36,
   "metadata": {},
   "outputs": [
    {
     "data": {
      "text/plain": [
       "(192723, 34)"
      ]
     },
     "execution_count": 36,
     "metadata": {},
     "output_type": "execute_result"
    }
   ],
   "source": [
    "df_flights.shape"
   ]
  },
  {
   "cell_type": "markdown",
   "metadata": {},
   "source": [
    "## Drop Unnecessary Columns "
   ]
  },
  {
   "cell_type": "markdown",
   "metadata": {},
   "source": [
    "Drop the columns that we will not be using in the modeling"
   ]
  },
  {
   "cell_type": "code",
   "execution_count": 37,
   "metadata": {},
   "outputs": [],
   "source": [
    "cols = ['fl_date', 'mkt_unique_carrier', 'tail_num',\n",
    "       'origin_city_name', 'dest_city_name',\n",
    "       'dep_time', 'taxi_out', 'wheels_off', 'wheels_on',\n",
    "       'taxi_in', 'arr_time', 'cancelled', 'dup',\n",
    "       'actual_elapsed_time',\n",
    "       'carrier_delay', 'weather_delay', 'nas_delay', 'security_delay',\n",
    "       'late_aircraft_delay', 'flight_delayed',\n",
    "       'haul_length', 'route']\n",
    "df_flights = df_flights.drop(columns=cols)"
   ]
  },
  {
   "cell_type": "code",
   "execution_count": 38,
   "metadata": {},
   "outputs": [
    {
     "data": {
      "text/html": [
       "<div>\n",
       "<style scoped>\n",
       "    .dataframe tbody tr th:only-of-type {\n",
       "        vertical-align: middle;\n",
       "    }\n",
       "\n",
       "    .dataframe tbody tr th {\n",
       "        vertical-align: top;\n",
       "    }\n",
       "\n",
       "    .dataframe thead th {\n",
       "        text-align: right;\n",
       "    }\n",
       "</style>\n",
       "<table border=\"1\" class=\"dataframe\">\n",
       "  <thead>\n",
       "    <tr style=\"text-align: right;\">\n",
       "      <th></th>\n",
       "      <th>origin</th>\n",
       "      <th>dest</th>\n",
       "      <th>crs_dep_time</th>\n",
       "      <th>dep_delay</th>\n",
       "      <th>crs_arr_time</th>\n",
       "      <th>arr_delay</th>\n",
       "      <th>crs_elapsed_time</th>\n",
       "      <th>air_time</th>\n",
       "      <th>distance</th>\n",
       "      <th>carrier</th>\n",
       "      <th>month</th>\n",
       "      <th>day_of_week</th>\n",
       "    </tr>\n",
       "  </thead>\n",
       "  <tbody>\n",
       "    <tr>\n",
       "      <th>0</th>\n",
       "      <td>BOS</td>\n",
       "      <td>RIC</td>\n",
       "      <td>1455</td>\n",
       "      <td>-2.0</td>\n",
       "      <td>1649</td>\n",
       "      <td>-14.0</td>\n",
       "      <td>114.0</td>\n",
       "      <td>78.0</td>\n",
       "      <td>474.0</td>\n",
       "      <td>Delta Air Lines</td>\n",
       "      <td>5</td>\n",
       "      <td>4</td>\n",
       "    </tr>\n",
       "    <tr>\n",
       "      <th>2</th>\n",
       "      <td>CLT</td>\n",
       "      <td>SAT</td>\n",
       "      <td>1610</td>\n",
       "      <td>20.0</td>\n",
       "      <td>1822</td>\n",
       "      <td>19.0</td>\n",
       "      <td>192.0</td>\n",
       "      <td>171.0</td>\n",
       "      <td>1095.0</td>\n",
       "      <td>American Airlines</td>\n",
       "      <td>12</td>\n",
       "      <td>4</td>\n",
       "    </tr>\n",
       "    <tr>\n",
       "      <th>3</th>\n",
       "      <td>ATL</td>\n",
       "      <td>PWM</td>\n",
       "      <td>2114</td>\n",
       "      <td>0.0</td>\n",
       "      <td>2355</td>\n",
       "      <td>-14.0</td>\n",
       "      <td>161.0</td>\n",
       "      <td>133.0</td>\n",
       "      <td>1027.0</td>\n",
       "      <td>Delta Air Lines</td>\n",
       "      <td>7</td>\n",
       "      <td>6</td>\n",
       "    </tr>\n",
       "    <tr>\n",
       "      <th>4</th>\n",
       "      <td>PHX</td>\n",
       "      <td>BOI</td>\n",
       "      <td>2021</td>\n",
       "      <td>-6.0</td>\n",
       "      <td>2330</td>\n",
       "      <td>-14.0</td>\n",
       "      <td>129.0</td>\n",
       "      <td>101.0</td>\n",
       "      <td>735.0</td>\n",
       "      <td>American Airlines</td>\n",
       "      <td>4</td>\n",
       "      <td>0</td>\n",
       "    </tr>\n",
       "    <tr>\n",
       "      <th>5</th>\n",
       "      <td>LAS</td>\n",
       "      <td>DEN</td>\n",
       "      <td>1645</td>\n",
       "      <td>-4.0</td>\n",
       "      <td>1937</td>\n",
       "      <td>-17.0</td>\n",
       "      <td>112.0</td>\n",
       "      <td>82.0</td>\n",
       "      <td>628.0</td>\n",
       "      <td>United Airlines</td>\n",
       "      <td>12</td>\n",
       "      <td>3</td>\n",
       "    </tr>\n",
       "  </tbody>\n",
       "</table>\n",
       "</div>"
      ],
      "text/plain": [
       "  origin dest  crs_dep_time  dep_delay  crs_arr_time  arr_delay  \\\n",
       "0    BOS  RIC          1455       -2.0          1649      -14.0   \n",
       "2    CLT  SAT          1610       20.0          1822       19.0   \n",
       "3    ATL  PWM          2114        0.0          2355      -14.0   \n",
       "4    PHX  BOI          2021       -6.0          2330      -14.0   \n",
       "5    LAS  DEN          1645       -4.0          1937      -17.0   \n",
       "\n",
       "   crs_elapsed_time  air_time  distance            carrier  month  day_of_week  \n",
       "0             114.0      78.0     474.0    Delta Air Lines      5            4  \n",
       "2             192.0     171.0    1095.0  American Airlines     12            4  \n",
       "3             161.0     133.0    1027.0    Delta Air Lines      7            6  \n",
       "4             129.0     101.0     735.0  American Airlines      4            0  \n",
       "5             112.0      82.0     628.0    United Airlines     12            3  "
      ]
     },
     "execution_count": 38,
     "metadata": {},
     "output_type": "execute_result"
    }
   ],
   "source": [
    "df_flights.head()"
   ]
  },
  {
   "cell_type": "code",
   "execution_count": 40,
   "metadata": {},
   "outputs": [],
   "source": [
    "# we won't be using the origin and dest data as there are too many airports to be able to included in the model\n",
    "cols = ['origin', 'dest']\n",
    "df_flights = df_flights.drop(columns=cols)"
   ]
  },
  {
   "cell_type": "markdown",
   "metadata": {},
   "source": [
    "## Feature Engineer Time-Related Data"
   ]
  },
  {
   "cell_type": "code",
   "execution_count": 42,
   "metadata": {},
   "outputs": [],
   "source": [
    "# bin the time related columns into 3 categories: morning (1), afternoon(2), night(3)\n",
    "df_flights['crs_dep_time'] = np.ceil(df_flights['crs_dep_time']/800).apply(int)\n",
    "df_flights['crs_arr_time'] = np.ceil(df_flights['crs_arr_time']/800).apply(int)"
   ]
  },
  {
   "cell_type": "code",
   "execution_count": 46,
   "metadata": {},
   "outputs": [
    {
     "data": {
      "text/plain": [
       "array([3, 1, 2])"
      ]
     },
     "execution_count": 46,
     "metadata": {},
     "output_type": "execute_result"
    }
   ],
   "source": [
    "df_flights.crs_arr_time.unique()"
   ]
  },
  {
   "cell_type": "code",
   "execution_count": 47,
   "metadata": {},
   "outputs": [
    {
     "data": {
      "text/plain": [
       "Index(['crs_dep_time', 'dep_delay', 'crs_arr_time', 'arr_delay',\n",
       "       'crs_elapsed_time', 'air_time', 'distance', 'carrier', 'month',\n",
       "       'day_of_week'],\n",
       "      dtype='object')"
      ]
     },
     "execution_count": 47,
     "metadata": {},
     "output_type": "execute_result"
    }
   ],
   "source": [
    "df_flights.columns"
   ]
  },
  {
   "cell_type": "markdown",
   "metadata": {},
   "source": [
    "## Get Dummies"
   ]
  },
  {
   "cell_type": "code",
   "execution_count": 48,
   "metadata": {},
   "outputs": [],
   "source": [
    "# get dummies for all categoricals\n",
    "# drop_first=True is important to use, as it helps in reducing the extra column created during dummy variable creation.\n",
    "# Hence it reduces the correlations created among dummy variables.\n",
    "\n",
    "crs_dep_time_dummies = pd.get_dummies(df_flights['crs_dep_time'], prefix='crs_dep_time', drop_first=True)\n",
    "crs_arr_time_dummies = pd.get_dummies(df_flights['crs_arr_time'], prefix='crs_arr_time', drop_first=True)\n",
    "carrier_dummies = pd.get_dummies(df_flights['carrier'], prefix='carrier', drop_first=True)\n",
    "month_dummies = pd.get_dummies(df_flights['month'], prefix='month', drop_first=True)\n",
    "day_of_week_dummies = pd.get_dummies(df_flights['day_of_week'], prefix='day_of_week', drop_first=True)\n"
   ]
  },
  {
   "cell_type": "code",
   "execution_count": null,
   "metadata": {},
   "outputs": [],
   "source": [
    "df_flights = pd.concat([df_flights, crs_dep_time_dummies, crs_arr_time_dummies, carrier_dummies, month_dummies, day_of_week_dummies], axis=1)"
   ]
  },
  {
   "cell_type": "code",
   "execution_count": 50,
   "metadata": {},
   "outputs": [],
   "source": [
    "# Drop the original columns\n",
    "df_flights = df_flights.drop(['crs_dep_time', 'crs_arr_time', 'carrier', 'month', 'day_of_week'], axis=1)"
   ]
  },
  {
   "cell_type": "code",
   "execution_count": 52,
   "metadata": {},
   "outputs": [
    {
     "data": {
      "text/plain": [
       "dep_delay                     float64\n",
       "arr_delay                     float64\n",
       "crs_elapsed_time              float64\n",
       "air_time                      float64\n",
       "distance                      float64\n",
       "crs_dep_time_2                  uint8\n",
       "crs_dep_time_3                  uint8\n",
       "crs_arr_time_2                  uint8\n",
       "crs_arr_time_3                  uint8\n",
       "carrier_Alaska Airlines         uint8\n",
       "carrier_American Airlines       uint8\n",
       "carrier_Delta Air Lines         uint8\n",
       "carrier_Frontier Airlines       uint8\n",
       "carrier_Hawaiian Airlines       uint8\n",
       "carrier_JetBlue Airways         uint8\n",
       "carrier_Southwest Airlines      uint8\n",
       "carrier_Spirit Airlines         uint8\n",
       "carrier_United Airlines         uint8\n",
       "carrier_Virgin America          uint8\n",
       "month_2                         uint8\n",
       "month_3                         uint8\n",
       "month_4                         uint8\n",
       "month_5                         uint8\n",
       "month_6                         uint8\n",
       "month_7                         uint8\n",
       "month_8                         uint8\n",
       "month_9                         uint8\n",
       "month_10                        uint8\n",
       "month_11                        uint8\n",
       "month_12                        uint8\n",
       "day_of_week_1                   uint8\n",
       "day_of_week_2                   uint8\n",
       "day_of_week_3                   uint8\n",
       "day_of_week_4                   uint8\n",
       "day_of_week_5                   uint8\n",
       "day_of_week_6                   uint8\n",
       "dtype: object"
      ]
     },
     "execution_count": 52,
     "metadata": {},
     "output_type": "execute_result"
    }
   ],
   "source": [
    "df_flights.dtypes"
   ]
  },
  {
   "cell_type": "code",
   "execution_count": 51,
   "metadata": {},
   "outputs": [
    {
     "data": {
      "text/html": [
       "<div>\n",
       "<style scoped>\n",
       "    .dataframe tbody tr th:only-of-type {\n",
       "        vertical-align: middle;\n",
       "    }\n",
       "\n",
       "    .dataframe tbody tr th {\n",
       "        vertical-align: top;\n",
       "    }\n",
       "\n",
       "    .dataframe thead th {\n",
       "        text-align: right;\n",
       "    }\n",
       "</style>\n",
       "<table border=\"1\" class=\"dataframe\">\n",
       "  <thead>\n",
       "    <tr style=\"text-align: right;\">\n",
       "      <th></th>\n",
       "      <th>dep_delay</th>\n",
       "      <th>arr_delay</th>\n",
       "      <th>crs_elapsed_time</th>\n",
       "      <th>air_time</th>\n",
       "      <th>distance</th>\n",
       "      <th>crs_dep_time_2</th>\n",
       "      <th>crs_dep_time_3</th>\n",
       "      <th>crs_arr_time_2</th>\n",
       "      <th>crs_arr_time_3</th>\n",
       "      <th>carrier_Alaska Airlines</th>\n",
       "      <th>...</th>\n",
       "      <th>month_9</th>\n",
       "      <th>month_10</th>\n",
       "      <th>month_11</th>\n",
       "      <th>month_12</th>\n",
       "      <th>day_of_week_1</th>\n",
       "      <th>day_of_week_2</th>\n",
       "      <th>day_of_week_3</th>\n",
       "      <th>day_of_week_4</th>\n",
       "      <th>day_of_week_5</th>\n",
       "      <th>day_of_week_6</th>\n",
       "    </tr>\n",
       "  </thead>\n",
       "  <tbody>\n",
       "    <tr>\n",
       "      <th>0</th>\n",
       "      <td>-2.0</td>\n",
       "      <td>-14.0</td>\n",
       "      <td>114.0</td>\n",
       "      <td>78.0</td>\n",
       "      <td>474.0</td>\n",
       "      <td>1</td>\n",
       "      <td>0</td>\n",
       "      <td>0</td>\n",
       "      <td>1</td>\n",
       "      <td>0</td>\n",
       "      <td>...</td>\n",
       "      <td>0</td>\n",
       "      <td>0</td>\n",
       "      <td>0</td>\n",
       "      <td>0</td>\n",
       "      <td>0</td>\n",
       "      <td>0</td>\n",
       "      <td>0</td>\n",
       "      <td>1</td>\n",
       "      <td>0</td>\n",
       "      <td>0</td>\n",
       "    </tr>\n",
       "    <tr>\n",
       "      <th>2</th>\n",
       "      <td>20.0</td>\n",
       "      <td>19.0</td>\n",
       "      <td>192.0</td>\n",
       "      <td>171.0</td>\n",
       "      <td>1095.0</td>\n",
       "      <td>0</td>\n",
       "      <td>1</td>\n",
       "      <td>0</td>\n",
       "      <td>1</td>\n",
       "      <td>0</td>\n",
       "      <td>...</td>\n",
       "      <td>0</td>\n",
       "      <td>0</td>\n",
       "      <td>0</td>\n",
       "      <td>1</td>\n",
       "      <td>0</td>\n",
       "      <td>0</td>\n",
       "      <td>0</td>\n",
       "      <td>1</td>\n",
       "      <td>0</td>\n",
       "      <td>0</td>\n",
       "    </tr>\n",
       "    <tr>\n",
       "      <th>3</th>\n",
       "      <td>0.0</td>\n",
       "      <td>-14.0</td>\n",
       "      <td>161.0</td>\n",
       "      <td>133.0</td>\n",
       "      <td>1027.0</td>\n",
       "      <td>0</td>\n",
       "      <td>1</td>\n",
       "      <td>0</td>\n",
       "      <td>1</td>\n",
       "      <td>0</td>\n",
       "      <td>...</td>\n",
       "      <td>0</td>\n",
       "      <td>0</td>\n",
       "      <td>0</td>\n",
       "      <td>0</td>\n",
       "      <td>0</td>\n",
       "      <td>0</td>\n",
       "      <td>0</td>\n",
       "      <td>0</td>\n",
       "      <td>0</td>\n",
       "      <td>1</td>\n",
       "    </tr>\n",
       "    <tr>\n",
       "      <th>4</th>\n",
       "      <td>-6.0</td>\n",
       "      <td>-14.0</td>\n",
       "      <td>129.0</td>\n",
       "      <td>101.0</td>\n",
       "      <td>735.0</td>\n",
       "      <td>0</td>\n",
       "      <td>1</td>\n",
       "      <td>0</td>\n",
       "      <td>1</td>\n",
       "      <td>0</td>\n",
       "      <td>...</td>\n",
       "      <td>0</td>\n",
       "      <td>0</td>\n",
       "      <td>0</td>\n",
       "      <td>0</td>\n",
       "      <td>0</td>\n",
       "      <td>0</td>\n",
       "      <td>0</td>\n",
       "      <td>0</td>\n",
       "      <td>0</td>\n",
       "      <td>0</td>\n",
       "    </tr>\n",
       "    <tr>\n",
       "      <th>5</th>\n",
       "      <td>-4.0</td>\n",
       "      <td>-17.0</td>\n",
       "      <td>112.0</td>\n",
       "      <td>82.0</td>\n",
       "      <td>628.0</td>\n",
       "      <td>0</td>\n",
       "      <td>1</td>\n",
       "      <td>0</td>\n",
       "      <td>1</td>\n",
       "      <td>0</td>\n",
       "      <td>...</td>\n",
       "      <td>0</td>\n",
       "      <td>0</td>\n",
       "      <td>0</td>\n",
       "      <td>1</td>\n",
       "      <td>0</td>\n",
       "      <td>0</td>\n",
       "      <td>1</td>\n",
       "      <td>0</td>\n",
       "      <td>0</td>\n",
       "      <td>0</td>\n",
       "    </tr>\n",
       "  </tbody>\n",
       "</table>\n",
       "<p>5 rows × 36 columns</p>\n",
       "</div>"
      ],
      "text/plain": [
       "   dep_delay  arr_delay  crs_elapsed_time  air_time  distance  crs_dep_time_2  \\\n",
       "0       -2.0      -14.0             114.0      78.0     474.0               1   \n",
       "2       20.0       19.0             192.0     171.0    1095.0               0   \n",
       "3        0.0      -14.0             161.0     133.0    1027.0               0   \n",
       "4       -6.0      -14.0             129.0     101.0     735.0               0   \n",
       "5       -4.0      -17.0             112.0      82.0     628.0               0   \n",
       "\n",
       "   crs_dep_time_3  crs_arr_time_2  crs_arr_time_3  carrier_Alaska Airlines  \\\n",
       "0               0               0               1                        0   \n",
       "2               1               0               1                        0   \n",
       "3               1               0               1                        0   \n",
       "4               1               0               1                        0   \n",
       "5               1               0               1                        0   \n",
       "\n",
       "   ...  month_9  month_10  month_11  month_12  day_of_week_1  day_of_week_2  \\\n",
       "0  ...        0         0         0         0              0              0   \n",
       "2  ...        0         0         0         1              0              0   \n",
       "3  ...        0         0         0         0              0              0   \n",
       "4  ...        0         0         0         0              0              0   \n",
       "5  ...        0         0         0         1              0              0   \n",
       "\n",
       "   day_of_week_3  day_of_week_4  day_of_week_5  day_of_week_6  \n",
       "0              0              1              0              0  \n",
       "2              0              1              0              0  \n",
       "3              0              0              0              1  \n",
       "4              0              0              0              0  \n",
       "5              1              0              0              0  \n",
       "\n",
       "[5 rows x 36 columns]"
      ]
     },
     "execution_count": 51,
     "metadata": {},
     "output_type": "execute_result"
    }
   ],
   "source": [
    "df_flights.head()"
   ]
  },
  {
   "cell_type": "code",
   "execution_count": 54,
   "metadata": {},
   "outputs": [
    {
     "data": {
      "text/plain": [
       "(192723, 36)"
      ]
     },
     "execution_count": 54,
     "metadata": {},
     "output_type": "execute_result"
    }
   ],
   "source": [
    "df_flights.shape"
   ]
  },
  {
   "cell_type": "markdown",
   "metadata": {},
   "source": [
    "## Export Processed Data for Modeling"
   ]
  },
  {
   "cell_type": "code",
   "execution_count": 53,
   "metadata": {},
   "outputs": [],
   "source": [
    "df_flights.to_csv(\"data/modeling.csv\", index=False)"
   ]
  },
  {
   "cell_type": "code",
   "execution_count": null,
   "metadata": {},
   "outputs": [],
   "source": []
  }
 ],
 "metadata": {
  "kernelspec": {
   "display_name": "Python 3",
   "language": "python",
   "name": "python3"
  },
  "language_info": {
   "codemirror_mode": {
    "name": "ipython",
    "version": 3
   },
   "file_extension": ".py",
   "mimetype": "text/x-python",
   "name": "python",
   "nbconvert_exporter": "python",
   "pygments_lexer": "ipython3",
   "version": "3.8.12"
  },
  "toc": {
   "base_numbering": 1,
   "nav_menu": {},
   "number_sections": true,
   "sideBar": true,
   "skip_h1_title": false,
   "title_cell": "Table of Contents",
   "title_sidebar": "Contents",
   "toc_cell": false,
   "toc_position": {},
   "toc_section_display": true,
   "toc_window_display": false
  },
  "varInspector": {
   "cols": {
    "lenName": 16,
    "lenType": 16,
    "lenVar": 40
   },
   "kernels_config": {
    "python": {
     "delete_cmd_postfix": "",
     "delete_cmd_prefix": "del ",
     "library": "var_list.py",
     "varRefreshCmd": "print(var_dic_list())"
    },
    "r": {
     "delete_cmd_postfix": ") ",
     "delete_cmd_prefix": "rm(",
     "library": "var_list.r",
     "varRefreshCmd": "cat(var_dic_list()) "
    }
   },
   "types_to_exclude": [
    "module",
    "function",
    "builtin_function_or_method",
    "instance",
    "_Feature"
   ],
   "window_display": false
  }
 },
 "nbformat": 4,
 "nbformat_minor": 4
}
