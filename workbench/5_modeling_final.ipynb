{
 "cells": [
  {
   "cell_type": "code",
   "execution_count": 17,
   "id": "8607bec7",
   "metadata": {},
   "outputs": [],
   "source": [
    "import pandas as pd\n",
    "import numpy as np\n",
    "import statsmodels.api as sm\n",
    "from sklearn.model_selection import train_test_split\n",
    "from sklearn.linear_model import LinearRegression\n",
    "from sklearn.feature_selection import RFE\n",
    "\n",
    "from sklearn.linear_model import RidgeCV, LassoCV, Ridge, Lasso\n",
    "from sklearn.preprocessing import LabelEncoder\n",
    "import sklearn.preprocessing\n",
    "from sklearn.linear_model import LinearRegression\n",
    "from sklearn.metrics import mean_absolute_error\n",
    "from sklearn.metrics import r2_score\n",
    "from sklearn.preprocessing import StandardScaler\n",
    "from sklearn.model_selection import train_test_split\n",
    "from sklearn.metrics import mean_squared_error\n",
    "import xgboost as xgb"
   ]
  },
  {
   "cell_type": "code",
   "execution_count": 18,
   "id": "bc9769a8",
   "metadata": {},
   "outputs": [
    {
     "data": {
      "text/html": [
       "<div>\n",
       "<style scoped>\n",
       "    .dataframe tbody tr th:only-of-type {\n",
       "        vertical-align: middle;\n",
       "    }\n",
       "\n",
       "    .dataframe tbody tr th {\n",
       "        vertical-align: top;\n",
       "    }\n",
       "\n",
       "    .dataframe thead th {\n",
       "        text-align: right;\n",
       "    }\n",
       "</style>\n",
       "<table border=\"1\" class=\"dataframe\">\n",
       "  <thead>\n",
       "    <tr style=\"text-align: right;\">\n",
       "      <th></th>\n",
       "      <th>origin</th>\n",
       "      <th>dest</th>\n",
       "      <th>crs_dep_time</th>\n",
       "      <th>crs_arr_time</th>\n",
       "      <th>crs_elapsed_time</th>\n",
       "      <th>air_time</th>\n",
       "      <th>distance</th>\n",
       "      <th>carrier</th>\n",
       "      <th>month</th>\n",
       "      <th>day_of_week</th>\n",
       "      <th>mean_hist_dep_delay</th>\n",
       "      <th>mean_hist_arr_delay</th>\n",
       "      <th>arr_delay</th>\n",
       "    </tr>\n",
       "  </thead>\n",
       "  <tbody>\n",
       "    <tr>\n",
       "      <th>0</th>\n",
       "      <td>-1.345799</td>\n",
       "      <td>1.158846</td>\n",
       "      <td>0.206656</td>\n",
       "      <td>0.287511</td>\n",
       "      <td>-0.333014</td>\n",
       "      <td>-0.426846</td>\n",
       "      <td>-0.503081</td>\n",
       "      <td>-0.591517</td>\n",
       "      <td>-0.467353</td>\n",
       "      <td>0.531350</td>\n",
       "      <td>0.435436</td>\n",
       "      <td>0.192550</td>\n",
       "      <td>-14.0</td>\n",
       "    </tr>\n",
       "    <tr>\n",
       "      <th>1</th>\n",
       "      <td>-1.078859</td>\n",
       "      <td>1.268110</td>\n",
       "      <td>0.616548</td>\n",
       "      <td>0.674710</td>\n",
       "      <td>0.755372</td>\n",
       "      <td>0.909863</td>\n",
       "      <td>0.556498</td>\n",
       "      <td>-0.937630</td>\n",
       "      <td>1.590690</td>\n",
       "      <td>0.531350</td>\n",
       "      <td>0.784969</td>\n",
       "      <td>0.945652</td>\n",
       "      <td>19.0</td>\n",
       "    </tr>\n",
       "    <tr>\n",
       "      <th>2</th>\n",
       "      <td>-1.592966</td>\n",
       "      <td>1.089314</td>\n",
       "      <td>1.641278</td>\n",
       "      <td>1.642706</td>\n",
       "      <td>0.322809</td>\n",
       "      <td>0.363681</td>\n",
       "      <td>0.440473</td>\n",
       "      <td>-0.591517</td>\n",
       "      <td>0.120659</td>\n",
       "      <td>1.535334</td>\n",
       "      <td>1.150566</td>\n",
       "      <td>0.881637</td>\n",
       "      <td>-14.0</td>\n",
       "    </tr>\n",
       "    <tr>\n",
       "      <th>3</th>\n",
       "      <td>0.878702</td>\n",
       "      <td>-1.354240</td>\n",
       "      <td>1.436332</td>\n",
       "      <td>1.642706</td>\n",
       "      <td>-0.123709</td>\n",
       "      <td>-0.096262</td>\n",
       "      <td>-0.057751</td>\n",
       "      <td>-0.937630</td>\n",
       "      <td>-0.761359</td>\n",
       "      <td>-1.476618</td>\n",
       "      <td>1.398824</td>\n",
       "      <td>0.881637</td>\n",
       "      <td>-14.0</td>\n",
       "    </tr>\n",
       "    <tr>\n",
       "      <th>4</th>\n",
       "      <td>0.107542</td>\n",
       "      <td>-0.877449</td>\n",
       "      <td>0.616548</td>\n",
       "      <td>0.868309</td>\n",
       "      <td>-0.360921</td>\n",
       "      <td>-0.369353</td>\n",
       "      <td>-0.240319</td>\n",
       "      <td>1.485162</td>\n",
       "      <td>1.590690</td>\n",
       "      <td>0.029358</td>\n",
       "      <td>0.784969</td>\n",
       "      <td>1.160819</td>\n",
       "      <td>-17.0</td>\n",
       "    </tr>\n",
       "  </tbody>\n",
       "</table>\n",
       "</div>"
      ],
      "text/plain": [
       "     origin      dest  crs_dep_time  crs_arr_time  crs_elapsed_time  air_time  \\\n",
       "0 -1.345799  1.158846      0.206656      0.287511         -0.333014 -0.426846   \n",
       "1 -1.078859  1.268110      0.616548      0.674710          0.755372  0.909863   \n",
       "2 -1.592966  1.089314      1.641278      1.642706          0.322809  0.363681   \n",
       "3  0.878702 -1.354240      1.436332      1.642706         -0.123709 -0.096262   \n",
       "4  0.107542 -0.877449      0.616548      0.868309         -0.360921 -0.369353   \n",
       "\n",
       "   distance   carrier     month  day_of_week  mean_hist_dep_delay  \\\n",
       "0 -0.503081 -0.591517 -0.467353     0.531350             0.435436   \n",
       "1  0.556498 -0.937630  1.590690     0.531350             0.784969   \n",
       "2  0.440473 -0.591517  0.120659     1.535334             1.150566   \n",
       "3 -0.057751 -0.937630 -0.761359    -1.476618             1.398824   \n",
       "4 -0.240319  1.485162  1.590690     0.029358             0.784969   \n",
       "\n",
       "   mean_hist_arr_delay  arr_delay  \n",
       "0             0.192550      -14.0  \n",
       "1             0.945652       19.0  \n",
       "2             0.881637      -14.0  \n",
       "3             0.881637      -14.0  \n",
       "4             1.160819      -17.0  "
      ]
     },
     "execution_count": 18,
     "metadata": {},
     "output_type": "execute_result"
    }
   ],
   "source": [
    "my_path = \"C:/Users/user/lighthouse/Midterm_Project/Predicting_Flight_Delays/workbench/data/\"\n",
    "df = pd.read_csv(my_path +'flights_model.csv')\n",
    "# df = df.drop('Unnamed: 0', axis=1)\n",
    "df.head()"
   ]
  },
  {
   "cell_type": "markdown",
   "id": "4812c953",
   "metadata": {},
   "source": [
    "# Setting x and y values"
   ]
  },
  {
   "cell_type": "code",
   "execution_count": 19,
   "id": "63d6640e",
   "metadata": {},
   "outputs": [],
   "source": [
    "X = df.drop('arr_delay',axis=1)\n",
    "y = df['arr_delay']"
   ]
  },
  {
   "cell_type": "markdown",
   "id": "bbf35476",
   "metadata": {},
   "source": [
    "# Lasso = Feature Importance"
   ]
  },
  {
   "cell_type": "code",
   "execution_count": 20,
   "id": "52fe6380",
   "metadata": {},
   "outputs": [
    {
     "name": "stdout",
     "output_type": "stream",
     "text": [
      "Lasso picked 12 variables and eliminated the other 0 variables\n"
     ]
    },
    {
     "data": {
      "text/plain": [
       "Text(0.5, 1.0, 'Feature importance using Lasso Model')"
      ]
     },
     "execution_count": 20,
     "metadata": {},
     "output_type": "execute_result"
    },
    {
     "data": {
      "image/png": "[encoded data removed]",
      "text/plain": [
       "<Figure size 576x720 with 1 Axes>"
      ]
     },
     "metadata": {
      "needs_background": "light"
     },
     "output_type": "display_data"
    }
   ],
   "source": [
    "reg = LassoCV()\n",
    "reg.fit(X, y)\n",
    "coef = pd.Series(reg.coef_, index = X.columns)\n",
    "print(\"Lasso picked \" + str(sum(coef != 0)) + \" variables and eliminated the other \" +  str(sum(coef == 0)) + \" variables\")\n",
    "\n",
    "import matplotlib.pyplot as plt\n",
    "import matplotlib\n",
    "imp_coef = coef.sort_values()\n",
    "\n",
    "matplotlib.rcParams['figure.figsize'] = (8.0, 10.0)\n",
    "imp_coef.plot(kind = \"barh\")\n",
    "plt.title(\"Feature importance using Lasso Model\")"
   ]
  },
  {
   "cell_type": "markdown",
   "id": "84d361a7",
   "metadata": {},
   "source": [
    "# Splitting of data"
   ]
  },
  {
   "cell_type": "code",
   "execution_count": 21,
   "id": "78b822f6",
   "metadata": {},
   "outputs": [],
   "source": [
    "scaler = StandardScaler()\n",
    "scaled_df = scaler.fit_transform(X)\n",
    "X_train, X_test, y_train, y_test = train_test_split(X, y, test_size=0.3)"
   ]
  },
  {
   "cell_type": "markdown",
   "id": "1f9446c8",
   "metadata": {},
   "source": [
    "# Lasso Regression"
   ]
  },
  {
   "cell_type": "code",
   "execution_count": 22,
   "id": "e7e8a550",
   "metadata": {},
   "outputs": [
    {
     "name": "stdout",
     "output_type": "stream",
     "text": [
      "RSME:  27.161233854334615\n",
      "R2:  0.07935484373024371\n"
     ]
    }
   ],
   "source": [
    "reg = LassoCV()\n",
    "reg.fit(X, y)\n",
    "model_lasso = Lasso(alpha=0.01)\n",
    "model_lasso.fit(X_train, y_train) \n",
    "pred_test_lasso= model_lasso.predict(X_test)\n",
    "print('RSME: ',np.sqrt(mean_squared_error(y_test,pred_test_lasso))) \n",
    "print('R2: ',r2_score(y_test, pred_test_lasso))"
   ]
  },
  {
   "cell_type": "markdown",
   "id": "4d35be04",
   "metadata": {},
   "source": [
    "# Ridge Regression"
   ]
  },
  {
   "cell_type": "code",
   "execution_count": 23,
   "id": "0686d1c9",
   "metadata": {},
   "outputs": [
    {
     "name": "stdout",
     "output_type": "stream",
     "text": [
      "RSME:  27.160036154492293\n",
      "R2:  0.07943603534716948\n"
     ]
    }
   ],
   "source": [
    "rr = Ridge(alpha=0.01)\n",
    "rr.fit(X_train, y_train) \n",
    "pred_test_rr= rr.predict(X_test)\n",
    "print('RSME: ',np.sqrt(mean_squared_error(y_test,pred_test_rr))) \n",
    "print('R2: ',r2_score(y_test, pred_test_rr))"
   ]
  },
  {
   "cell_type": "markdown",
   "id": "aeb3c1a0",
   "metadata": {},
   "source": [
    "# Random Forest"
   ]
  },
  {
   "cell_type": "code",
   "execution_count": null,
   "id": "3d4cf5f3",
   "metadata": {},
   "outputs": [],
   "source": [
    "from sklearn.ensemble import RandomForestRegressor\n",
    "rf = RandomForestRegressor(n_estimators=100)\n",
    "rf.fit(X_train,y_train)\n",
    "y_pred_RF = rf.predict(X_test)\n",
    "from sklearn import metrics\n",
    "print('R2 score:',r2_score(y_test, y_pred_RF))\n",
    "print('RMSE:', np.sqrt(metrics.mean_squared_error(y_test, y_pred_RF)))"
   ]
  },
  {
   "cell_type": "markdown",
   "id": "6ee989c7",
   "metadata": {},
   "source": [
    "# XGBoost"
   ]
  },
  {
   "cell_type": "code",
   "execution_count": 24,
   "id": "14a6899e",
   "metadata": {},
   "outputs": [
    {
     "name": "stdout",
     "output_type": "stream",
     "text": [
      "Model RMSE is:  9.9248251138801\n",
      "Model R2 Score is:  0.8770753420286003\n"
     ]
    }
   ],
   "source": [
    "data_dmatrix = xgb.DMatrix(data=X,label=y)\n",
    "xg_reg = xgb.XGBRegressor(objective ='reg:squarederror', colsample_bytree = 0.3, learning_rate = 0.1,\n",
    "                max_depth = 15, alpha = 10, n_estimators = 200)\n",
    "xg_reg.fit(X_test,y_test)\n",
    "y_pred_xgb = xg_reg.predict(X_test)\n",
    "print('Model RMSE is: ',np.sqrt(mean_squared_error(y_test, y_pred_xgb)))\n",
    "print('Model R2 Score is: ',r2_score(y_test,y_pred_xgb))"
   ]
  },
  {
   "cell_type": "code",
   "execution_count": 25,
   "id": "2c8c92f3",
   "metadata": {},
   "outputs": [
    {
     "data": {
      "image/png": "[encoded data removed]",
      "text/plain": [
       "<Figure size 576x720 with 1 Axes>"
      ]
     },
     "metadata": {
      "needs_background": "light"
     },
     "output_type": "display_data"
    }
   ],
   "source": [
    "xgb.plot_importance(xg_reg)\n",
    "plt.rcParams['figure.figsize'] = [50, 50]\n",
    "plt.show()"
   ]
  },
  {
   "cell_type": "markdown",
   "id": "ec04b198",
   "metadata": {},
   "source": [
    "## Predict on January 2020 Flights_test dataset\n",
    "Files can be found in:\n",
    "data/test_eval.csv"
   ]
  },
  {
   "cell_type": "code",
   "execution_count": 26,
   "id": "ff2fba8f",
   "metadata": {},
   "outputs": [],
   "source": [
    "## Import scaled test dataset (see: 5_feature_selection_test)\n",
    "test_eval = pd.read_csv('data/flights_model.csv')"
   ]
  },
  {
   "cell_type": "code",
   "execution_count": 30,
   "id": "181e6196",
   "metadata": {},
   "outputs": [],
   "source": [
    "test_eval.head()\n",
    "test_eval = test_eval.drop('arr_delay',axis=1)"
   ]
  },
  {
   "cell_type": "code",
   "execution_count": null,
   "id": "cf557754",
   "metadata": {},
   "outputs": [],
   "source": []
  },
  {
   "cell_type": "code",
   "execution_count": 29,
   "id": "4d99e4fd",
   "metadata": {},
   "outputs": [
    {
     "ename": "NameError",
     "evalue": "name 'XGBRegressor' is not defined",
     "output_type": "error",
     "traceback": [
      "\u001b[1;31m---------------------------------------------------------------------------\u001b[0m",
      "\u001b[1;31mNameError\u001b[0m                                 Traceback (most recent call last)",
      "\u001b[1;32m~\\AppData\\Local\\Temp/ipykernel_8912/4178185937.py\u001b[0m in \u001b[0;36m<module>\u001b[1;34m\u001b[0m\n\u001b[1;32m----> 1\u001b[1;33m \u001b[0mmodel\u001b[0m \u001b[1;33m=\u001b[0m \u001b[0mXGBRegressor\u001b[0m\u001b[1;33m(\u001b[0m\u001b[1;33m)\u001b[0m\u001b[1;33m\u001b[0m\u001b[1;33m\u001b[0m\u001b[0m\n\u001b[0m",
      "\u001b[1;31mNameError\u001b[0m: name 'XGBRegressor' is not defined"
     ]
    }
   ],
   "source": [
    "model = XGBRegressor()"
   ]
  },
  {
   "cell_type": "code",
   "execution_count": 31,
   "id": "03dfe0f5",
   "metadata": {
    "scrolled": true
   },
   "outputs": [],
   "source": [
    "pred_test = xg_reg.predict(test_eval)"
   ]
  },
  {
   "cell_type": "code",
   "execution_count": 32,
   "id": "7b9cb699",
   "metadata": {},
   "outputs": [],
   "source": [
    "pd.DataFrame(pred_test).to_csv('data/pred_test.csv')"
   ]
  },
  {
   "cell_type": "markdown",
   "id": "b070eccb",
   "metadata": {},
   "source": [
    "## Evaluate on the test data and prepare submission file"
   ]
  },
  {
   "cell_type": "code",
   "execution_count": 33,
   "id": "5959bd74",
   "metadata": {},
   "outputs": [
    {
     "data": {
      "text/html": [
       "<div>\n",
       "<style scoped>\n",
       "    .dataframe tbody tr th:only-of-type {\n",
       "        vertical-align: middle;\n",
       "    }\n",
       "\n",
       "    .dataframe tbody tr th {\n",
       "        vertical-align: top;\n",
       "    }\n",
       "\n",
       "    .dataframe thead th {\n",
       "        text-align: right;\n",
       "    }\n",
       "</style>\n",
       "<table border=\"1\" class=\"dataframe\">\n",
       "  <thead>\n",
       "    <tr style=\"text-align: right;\">\n",
       "      <th></th>\n",
       "      <th>fl_date</th>\n",
       "      <th>mkt_unique_carrier</th>\n",
       "      <th>mkt_carrier_fl_num</th>\n",
       "      <th>origin</th>\n",
       "      <th>dest</th>\n",
       "    </tr>\n",
       "  </thead>\n",
       "  <tbody>\n",
       "    <tr>\n",
       "      <th>9669</th>\n",
       "      <td>2020-01-01</td>\n",
       "      <td>UA</td>\n",
       "      <td>3573</td>\n",
       "      <td>SAV</td>\n",
       "      <td>EWR</td>\n",
       "    </tr>\n",
       "    <tr>\n",
       "      <th>461072</th>\n",
       "      <td>2020-01-22</td>\n",
       "      <td>WN</td>\n",
       "      <td>974</td>\n",
       "      <td>HOU</td>\n",
       "      <td>MCO</td>\n",
       "    </tr>\n",
       "    <tr>\n",
       "      <th>297618</th>\n",
       "      <td>2020-01-14</td>\n",
       "      <td>F9</td>\n",
       "      <td>2307</td>\n",
       "      <td>PHL</td>\n",
       "      <td>BNA</td>\n",
       "    </tr>\n",
       "    <tr>\n",
       "      <th>618551</th>\n",
       "      <td>2020-01-30</td>\n",
       "      <td>F9</td>\n",
       "      <td>2935</td>\n",
       "      <td>BDL</td>\n",
       "      <td>MIA</td>\n",
       "    </tr>\n",
       "    <tr>\n",
       "      <th>228953</th>\n",
       "      <td>2020-01-11</td>\n",
       "      <td>AA</td>\n",
       "      <td>5779</td>\n",
       "      <td>YUM</td>\n",
       "      <td>PHX</td>\n",
       "    </tr>\n",
       "  </tbody>\n",
       "</table>\n",
       "</div>"
      ],
      "text/plain": [
       "           fl_date mkt_unique_carrier  mkt_carrier_fl_num origin dest\n",
       "9669    2020-01-01                 UA                3573    SAV  EWR\n",
       "461072  2020-01-22                 WN                 974    HOU  MCO\n",
       "297618  2020-01-14                 F9                2307    PHL  BNA\n",
       "618551  2020-01-30                 F9                2935    BDL  MIA\n",
       "228953  2020-01-11                 AA                5779    YUM  PHX"
      ]
     },
     "execution_count": 33,
     "metadata": {},
     "output_type": "execute_result"
    }
   ],
   "source": [
    "df = pd.read_csv(\"data/flights_test.csv\")\n",
    "df_submission = df.copy()\n",
    "df_submission = df_submission[[\"fl_date\",\"mkt_unique_carrier\",\"mkt_carrier_fl_num\", \"origin\",\"dest\"]]\n",
    "df_submission.sample(5)"
   ]
  },
  {
   "cell_type": "code",
   "execution_count": 34,
   "id": "b8233bed",
   "metadata": {},
   "outputs": [],
   "source": [
    "y = pd.read_csv('data/pred_test.csv')"
   ]
  },
  {
   "cell_type": "code",
   "execution_count": 35,
   "id": "43790dbc",
   "metadata": {},
   "outputs": [],
   "source": [
    "y_pred = y[\"0\"].values"
   ]
  },
  {
   "cell_type": "code",
   "execution_count": 36,
   "id": "223e803b",
   "metadata": {},
   "outputs": [],
   "source": [
    "y_predicted = pd.DataFrame(data = y_pred,\n",
    "                    columns = [\"predicted_delay\"])"
   ]
  },
  {
   "cell_type": "code",
   "execution_count": 37,
   "id": "e411e93f",
   "metadata": {},
   "outputs": [
    {
     "data": {
      "text/html": [
       "<div>\n",
       "<style scoped>\n",
       "    .dataframe tbody tr th:only-of-type {\n",
       "        vertical-align: middle;\n",
       "    }\n",
       "\n",
       "    .dataframe tbody tr th {\n",
       "        vertical-align: top;\n",
       "    }\n",
       "\n",
       "    .dataframe thead th {\n",
       "        text-align: right;\n",
       "    }\n",
       "</style>\n",
       "<table border=\"1\" class=\"dataframe\">\n",
       "  <thead>\n",
       "    <tr style=\"text-align: right;\">\n",
       "      <th></th>\n",
       "      <th>fl_date</th>\n",
       "      <th>mkt_unique_carrier</th>\n",
       "      <th>mkt_carrier_fl_num</th>\n",
       "      <th>origin</th>\n",
       "      <th>dest</th>\n",
       "      <th>predicted_delay</th>\n",
       "    </tr>\n",
       "  </thead>\n",
       "  <tbody>\n",
       "    <tr>\n",
       "      <th>0</th>\n",
       "      <td>2020-01-01</td>\n",
       "      <td>WN</td>\n",
       "      <td>5888</td>\n",
       "      <td>ONT</td>\n",
       "      <td>SFO</td>\n",
       "      <td>-10.099297</td>\n",
       "    </tr>\n",
       "    <tr>\n",
       "      <th>1</th>\n",
       "      <td>2020-01-01</td>\n",
       "      <td>WN</td>\n",
       "      <td>6276</td>\n",
       "      <td>ONT</td>\n",
       "      <td>SFO</td>\n",
       "      <td>14.517684</td>\n",
       "    </tr>\n",
       "    <tr>\n",
       "      <th>2</th>\n",
       "      <td>2020-01-01</td>\n",
       "      <td>WN</td>\n",
       "      <td>4598</td>\n",
       "      <td>ONT</td>\n",
       "      <td>SJC</td>\n",
       "      <td>7.008315</td>\n",
       "    </tr>\n",
       "    <tr>\n",
       "      <th>3</th>\n",
       "      <td>2020-01-01</td>\n",
       "      <td>WN</td>\n",
       "      <td>4761</td>\n",
       "      <td>ONT</td>\n",
       "      <td>SJC</td>\n",
       "      <td>10.586285</td>\n",
       "    </tr>\n",
       "    <tr>\n",
       "      <th>4</th>\n",
       "      <td>2020-01-01</td>\n",
       "      <td>WN</td>\n",
       "      <td>5162</td>\n",
       "      <td>ONT</td>\n",
       "      <td>SJC</td>\n",
       "      <td>-10.931800</td>\n",
       "    </tr>\n",
       "  </tbody>\n",
       "</table>\n",
       "</div>"
      ],
      "text/plain": [
       "      fl_date mkt_unique_carrier  mkt_carrier_fl_num origin dest  \\\n",
       "0  2020-01-01                 WN                5888    ONT  SFO   \n",
       "1  2020-01-01                 WN                6276    ONT  SFO   \n",
       "2  2020-01-01                 WN                4598    ONT  SJC   \n",
       "3  2020-01-01                 WN                4761    ONT  SJC   \n",
       "4  2020-01-01                 WN                5162    ONT  SJC   \n",
       "\n",
       "   predicted_delay  \n",
       "0       -10.099297  \n",
       "1        14.517684  \n",
       "2         7.008315  \n",
       "3        10.586285  \n",
       "4       -10.931800  "
      ]
     },
     "execution_count": 37,
     "metadata": {},
     "output_type": "execute_result"
    }
   ],
   "source": [
    "final_pred = df_submission.merge(y_predicted, right_index = True, left_index = True)\n",
    "final_pred.head()"
   ]
  },
  {
   "cell_type": "code",
   "execution_count": 38,
   "id": "ca2b678c",
   "metadata": {},
   "outputs": [],
   "source": [
    "final_pred.to_csv(\"submission.csv\", index=False)"
   ]
  },
  {
   "cell_type": "code",
   "execution_count": 39,
   "id": "6e6e78b8",
   "metadata": {},
   "outputs": [
    {
     "data": {
      "text/html": [
       "<div>\n",
       "<style scoped>\n",
       "    .dataframe tbody tr th:only-of-type {\n",
       "        vertical-align: middle;\n",
       "    }\n",
       "\n",
       "    .dataframe tbody tr th {\n",
       "        vertical-align: top;\n",
       "    }\n",
       "\n",
       "    .dataframe thead th {\n",
       "        text-align: right;\n",
       "    }\n",
       "</style>\n",
       "<table border=\"1\" class=\"dataframe\">\n",
       "  <thead>\n",
       "    <tr style=\"text-align: right;\">\n",
       "      <th></th>\n",
       "      <th>fl_date</th>\n",
       "      <th>mkt_unique_carrier</th>\n",
       "      <th>mkt_carrier_fl_num</th>\n",
       "      <th>origin</th>\n",
       "      <th>dest</th>\n",
       "      <th>predicted_delay</th>\n",
       "    </tr>\n",
       "  </thead>\n",
       "  <tbody>\n",
       "    <tr>\n",
       "      <th>0</th>\n",
       "      <td>2020-01-01</td>\n",
       "      <td>WN</td>\n",
       "      <td>5888</td>\n",
       "      <td>ONT</td>\n",
       "      <td>SFO</td>\n",
       "      <td>-10.099297</td>\n",
       "    </tr>\n",
       "    <tr>\n",
       "      <th>1</th>\n",
       "      <td>2020-01-01</td>\n",
       "      <td>WN</td>\n",
       "      <td>6276</td>\n",
       "      <td>ONT</td>\n",
       "      <td>SFO</td>\n",
       "      <td>14.517684</td>\n",
       "    </tr>\n",
       "    <tr>\n",
       "      <th>2</th>\n",
       "      <td>2020-01-01</td>\n",
       "      <td>WN</td>\n",
       "      <td>4598</td>\n",
       "      <td>ONT</td>\n",
       "      <td>SJC</td>\n",
       "      <td>7.008315</td>\n",
       "    </tr>\n",
       "    <tr>\n",
       "      <th>3</th>\n",
       "      <td>2020-01-01</td>\n",
       "      <td>WN</td>\n",
       "      <td>4761</td>\n",
       "      <td>ONT</td>\n",
       "      <td>SJC</td>\n",
       "      <td>10.586285</td>\n",
       "    </tr>\n",
       "    <tr>\n",
       "      <th>4</th>\n",
       "      <td>2020-01-01</td>\n",
       "      <td>WN</td>\n",
       "      <td>5162</td>\n",
       "      <td>ONT</td>\n",
       "      <td>SJC</td>\n",
       "      <td>-10.931800</td>\n",
       "    </tr>\n",
       "    <tr>\n",
       "      <th>...</th>\n",
       "      <td>...</td>\n",
       "      <td>...</td>\n",
       "      <td>...</td>\n",
       "      <td>...</td>\n",
       "      <td>...</td>\n",
       "      <td>...</td>\n",
       "    </tr>\n",
       "    <tr>\n",
       "      <th>192718</th>\n",
       "      <td>2020-01-09</td>\n",
       "      <td>UA</td>\n",
       "      <td>5772</td>\n",
       "      <td>DEN</td>\n",
       "      <td>BFL</td>\n",
       "      <td>-8.543220</td>\n",
       "    </tr>\n",
       "    <tr>\n",
       "      <th>192719</th>\n",
       "      <td>2020-01-09</td>\n",
       "      <td>UA</td>\n",
       "      <td>5773</td>\n",
       "      <td>SBN</td>\n",
       "      <td>ORD</td>\n",
       "      <td>8.529156</td>\n",
       "    </tr>\n",
       "    <tr>\n",
       "      <th>192720</th>\n",
       "      <td>2020-01-09</td>\n",
       "      <td>UA</td>\n",
       "      <td>5774</td>\n",
       "      <td>DEN</td>\n",
       "      <td>RDM</td>\n",
       "      <td>7.643732</td>\n",
       "    </tr>\n",
       "    <tr>\n",
       "      <th>192721</th>\n",
       "      <td>2020-01-09</td>\n",
       "      <td>UA</td>\n",
       "      <td>5775</td>\n",
       "      <td>STL</td>\n",
       "      <td>SFO</td>\n",
       "      <td>3.629389</td>\n",
       "    </tr>\n",
       "    <tr>\n",
       "      <th>192722</th>\n",
       "      <td>2020-01-09</td>\n",
       "      <td>UA</td>\n",
       "      <td>5779</td>\n",
       "      <td>BZN</td>\n",
       "      <td>SFO</td>\n",
       "      <td>1.151895</td>\n",
       "    </tr>\n",
       "  </tbody>\n",
       "</table>\n",
       "<p>192723 rows × 6 columns</p>\n",
       "</div>"
      ],
      "text/plain": [
       "           fl_date mkt_unique_carrier  mkt_carrier_fl_num origin dest  \\\n",
       "0       2020-01-01                 WN                5888    ONT  SFO   \n",
       "1       2020-01-01                 WN                6276    ONT  SFO   \n",
       "2       2020-01-01                 WN                4598    ONT  SJC   \n",
       "3       2020-01-01                 WN                4761    ONT  SJC   \n",
       "4       2020-01-01                 WN                5162    ONT  SJC   \n",
       "...            ...                ...                 ...    ...  ...   \n",
       "192718  2020-01-09                 UA                5772    DEN  BFL   \n",
       "192719  2020-01-09                 UA                5773    SBN  ORD   \n",
       "192720  2020-01-09                 UA                5774    DEN  RDM   \n",
       "192721  2020-01-09                 UA                5775    STL  SFO   \n",
       "192722  2020-01-09                 UA                5779    BZN  SFO   \n",
       "\n",
       "        predicted_delay  \n",
       "0            -10.099297  \n",
       "1             14.517684  \n",
       "2              7.008315  \n",
       "3             10.586285  \n",
       "4            -10.931800  \n",
       "...                 ...  \n",
       "192718        -8.543220  \n",
       "192719         8.529156  \n",
       "192720         7.643732  \n",
       "192721         3.629389  \n",
       "192722         1.151895  \n",
       "\n",
       "[192723 rows x 6 columns]"
      ]
     },
     "execution_count": 39,
     "metadata": {},
     "output_type": "execute_result"
    }
   ],
   "source": [
    "final_pred"
   ]
  },
  {
   "cell_type": "code",
   "execution_count": null,
   "id": "d52bc651",
   "metadata": {},
   "outputs": [],
   "source": []
  }
 ],
 "metadata": {
  "kernelspec": {
   "display_name": "Python 3 (ipykernel)",
   "language": "python",
   "name": "python3"
  },
  "language_info": {
   "codemirror_mode": {
    "name": "ipython",
    "version": 3
   },
   "file_extension": ".py",
   "mimetype": "text/x-python",
   "name": "python",
   "nbconvert_exporter": "python",
   "pygments_lexer": "ipython3",
   "version": "3.8.11"
  }
 },
 "nbformat": 4,
 "nbformat_minor": 5
}
