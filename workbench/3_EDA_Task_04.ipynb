{
 "cells": [
  {
   "cell_type": "markdown",
   "metadata": {},
   "source": [
    "## Predicting Flight Delays\n",
    "### Exploratory Data Analysis\n",
    "Team: Ali, Khaildyn, Mobola\n",
    "## Task 4"
   ]
  },
  {
   "cell_type": "code",
   "execution_count": 20,
   "metadata": {},
   "outputs": [],
   "source": [
    "import numpy as np\n",
    "import pandas as pd\n",
    "import matplotlib as mpl\n",
    "import matplotlib.pyplot as plt\n",
    "import seaborn as sns\n",
    "import plotly.graph_objects as go\n",
    "\n",
    "%matplotlib inline"
   ]
  },
  {
   "cell_type": "code",
   "execution_count": 21,
   "metadata": {},
   "outputs": [],
   "source": [
    "# Read files\n",
    "df_flights = pd.read_csv(\"data/flights.csv\")"
   ]
  },
  {
   "cell_type": "markdown",
   "metadata": {},
   "source": [
    "#### **Task 4**: How taxi times changing during the day? Does higher traffic lead to bigger taxi times?"
   ]
  },
  {
   "cell_type": "code",
   "execution_count": 22,
   "metadata": {},
   "outputs": [],
   "source": [
    "## Change the date format\n",
    "def convert_time_to_string(x):\n",
    "    if x == 2400:\n",
    "        return '23:59'\n",
    "    \n",
    "    string = str(int(x))\n",
    "    \n",
    "    if len(string) < 4:\n",
    "        for _ in range(4-len(string)):\n",
    "            string = '0' + string\n",
    "    \n",
    "    return string[:2] + ':' + string[2:]"
   ]
  },
  {
   "cell_type": "code",
   "execution_count": 23,
   "metadata": {},
   "outputs": [],
   "source": [
    "df_flights['arr_time'] = df_flights['arr_time'].apply(lambda x: convert_time_to_string(x))\n",
    "df_flights['arr_time'] = pd.to_datetime(df_flights['arr_time'], format = '%H:%M', errors = 'coerce').dt.time\n",
    "\n",
    "df_flights['dep_time'] = df_flights['dep_time'].apply(lambda x: convert_time_to_string(x))\n",
    "df_flights['dep_time'] = pd.to_datetime(df_flights['dep_time'], format = '%H:%M', errors = 'coerce').dt.time"
   ]
  },
  {
   "cell_type": "code",
   "execution_count": 24,
   "metadata": {},
   "outputs": [
    {
     "data": {
      "text/html": [
       "<div>\n",
       "<style scoped>\n",
       "    .dataframe tbody tr th:only-of-type {\n",
       "        vertical-align: middle;\n",
       "    }\n",
       "\n",
       "    .dataframe tbody tr th {\n",
       "        vertical-align: top;\n",
       "    }\n",
       "\n",
       "    .dataframe thead th {\n",
       "        text-align: right;\n",
       "    }\n",
       "</style>\n",
       "<table border=\"1\" class=\"dataframe\">\n",
       "  <thead>\n",
       "    <tr style=\"text-align: right;\">\n",
       "      <th></th>\n",
       "      <th>taxi_in</th>\n",
       "      <th>taxi_out</th>\n",
       "      <th>dep_time</th>\n",
       "      <th>arr_time</th>\n",
       "    </tr>\n",
       "  </thead>\n",
       "  <tbody>\n",
       "    <tr>\n",
       "      <th>0</th>\n",
       "      <td>4.0</td>\n",
       "      <td>20.0</td>\n",
       "      <td>14:53:00</td>\n",
       "      <td>16:35:00</td>\n",
       "    </tr>\n",
       "    <tr>\n",
       "      <th>1</th>\n",
       "      <td>10.0</td>\n",
       "      <td>38.0</td>\n",
       "      <td>17:57:00</td>\n",
       "      <td>22:01:00</td>\n",
       "    </tr>\n",
       "    <tr>\n",
       "      <th>2</th>\n",
       "      <td>4.0</td>\n",
       "      <td>16.0</td>\n",
       "      <td>16:30:00</td>\n",
       "      <td>18:41:00</td>\n",
       "    </tr>\n",
       "    <tr>\n",
       "      <th>3</th>\n",
       "      <td>2.0</td>\n",
       "      <td>12.0</td>\n",
       "      <td>21:14:00</td>\n",
       "      <td>23:41:00</td>\n",
       "    </tr>\n",
       "    <tr>\n",
       "      <th>4</th>\n",
       "      <td>4.0</td>\n",
       "      <td>16.0</td>\n",
       "      <td>20:15:00</td>\n",
       "      <td>23:16:00</td>\n",
       "    </tr>\n",
       "    <tr>\n",
       "      <th>...</th>\n",
       "      <td>...</td>\n",
       "      <td>...</td>\n",
       "      <td>...</td>\n",
       "      <td>...</td>\n",
       "    </tr>\n",
       "    <tr>\n",
       "      <th>195867</th>\n",
       "      <td>8.0</td>\n",
       "      <td>27.0</td>\n",
       "      <td>16:18:00</td>\n",
       "      <td>18:26:00</td>\n",
       "    </tr>\n",
       "    <tr>\n",
       "      <th>195868</th>\n",
       "      <td>18.0</td>\n",
       "      <td>12.0</td>\n",
       "      <td>19:18:00</td>\n",
       "      <td>20:45:00</td>\n",
       "    </tr>\n",
       "    <tr>\n",
       "      <th>195869</th>\n",
       "      <td>2.0</td>\n",
       "      <td>22.0</td>\n",
       "      <td>14:40:00</td>\n",
       "      <td>15:30:00</td>\n",
       "    </tr>\n",
       "    <tr>\n",
       "      <th>195870</th>\n",
       "      <td>7.0</td>\n",
       "      <td>24.0</td>\n",
       "      <td>08:00:00</td>\n",
       "      <td>10:27:00</td>\n",
       "    </tr>\n",
       "    <tr>\n",
       "      <th>195871</th>\n",
       "      <td>9.0</td>\n",
       "      <td>16.0</td>\n",
       "      <td>14:25:00</td>\n",
       "      <td>15:40:00</td>\n",
       "    </tr>\n",
       "  </tbody>\n",
       "</table>\n",
       "<p>195872 rows × 4 columns</p>\n",
       "</div>"
      ],
      "text/plain": [
       "        taxi_in  taxi_out  dep_time  arr_time\n",
       "0           4.0      20.0  14:53:00  16:35:00\n",
       "1          10.0      38.0  17:57:00  22:01:00\n",
       "2           4.0      16.0  16:30:00  18:41:00\n",
       "3           2.0      12.0  21:14:00  23:41:00\n",
       "4           4.0      16.0  20:15:00  23:16:00\n",
       "...         ...       ...       ...       ...\n",
       "195867      8.0      27.0  16:18:00  18:26:00\n",
       "195868     18.0      12.0  19:18:00  20:45:00\n",
       "195869      2.0      22.0  14:40:00  15:30:00\n",
       "195870      7.0      24.0  08:00:00  10:27:00\n",
       "195871      9.0      16.0  14:25:00  15:40:00\n",
       "\n",
       "[195872 rows x 4 columns]"
      ]
     },
     "execution_count": 24,
     "metadata": {},
     "output_type": "execute_result"
    }
   ],
   "source": [
    "taxi_df = df_flights.filter(['taxi_in', 'taxi_out', 'dep_time','arr_time'], axis=1)\n",
    "taxi_df"
   ]
  },
  {
   "cell_type": "code",
   "execution_count": 25,
   "metadata": {},
   "outputs": [
    {
     "name": "stdout",
     "output_type": "stream",
     "text": [
      "<class 'pandas.core.frame.DataFrame'>\n",
      "RangeIndex: 195872 entries, 0 to 195871\n",
      "Data columns (total 4 columns):\n",
      " #   Column    Non-Null Count   Dtype  \n",
      "---  ------    --------------   -----  \n",
      " 0   taxi_in   195872 non-null  float64\n",
      " 1   taxi_out  195872 non-null  float64\n",
      " 2   dep_time  195872 non-null  object \n",
      " 3   arr_time  195872 non-null  object \n",
      "dtypes: float64(2), object(2)\n",
      "memory usage: 6.0+ MB\n"
     ]
    }
   ],
   "source": [
    "taxi_df.info()"
   ]
  },
  {
   "cell_type": "code",
   "execution_count": 26,
   "metadata": {},
   "outputs": [],
   "source": [
    "taxi_df['dep_time'] = pd.to_datetime(taxi_df['dep_time'], format ='%H:%M:%S')\n",
    "taxi_df['arr_time'] = pd.to_datetime(taxi_df['arr_time'], format ='%H:%M:%S')"
   ]
  },
  {
   "cell_type": "code",
   "execution_count": 27,
   "metadata": {},
   "outputs": [
    {
     "data": {
      "text/html": [
       "<div>\n",
       "<style scoped>\n",
       "    .dataframe tbody tr th:only-of-type {\n",
       "        vertical-align: middle;\n",
       "    }\n",
       "\n",
       "    .dataframe tbody tr th {\n",
       "        vertical-align: top;\n",
       "    }\n",
       "\n",
       "    .dataframe thead th {\n",
       "        text-align: right;\n",
       "    }\n",
       "</style>\n",
       "<table border=\"1\" class=\"dataframe\">\n",
       "  <thead>\n",
       "    <tr style=\"text-align: right;\">\n",
       "      <th></th>\n",
       "      <th>taxi_in</th>\n",
       "      <th>taxi_out</th>\n",
       "      <th>dep_time</th>\n",
       "      <th>arr_time</th>\n",
       "      <th>dep_hour</th>\n",
       "      <th>arr_hour</th>\n",
       "    </tr>\n",
       "  </thead>\n",
       "  <tbody>\n",
       "    <tr>\n",
       "      <th>0</th>\n",
       "      <td>4.0</td>\n",
       "      <td>20.0</td>\n",
       "      <td>1900-01-01 14:53:00</td>\n",
       "      <td>1900-01-01 16:35:00</td>\n",
       "      <td>14</td>\n",
       "      <td>16</td>\n",
       "    </tr>\n",
       "    <tr>\n",
       "      <th>1</th>\n",
       "      <td>10.0</td>\n",
       "      <td>38.0</td>\n",
       "      <td>1900-01-01 17:57:00</td>\n",
       "      <td>1900-01-01 22:01:00</td>\n",
       "      <td>17</td>\n",
       "      <td>22</td>\n",
       "    </tr>\n",
       "    <tr>\n",
       "      <th>2</th>\n",
       "      <td>4.0</td>\n",
       "      <td>16.0</td>\n",
       "      <td>1900-01-01 16:30:00</td>\n",
       "      <td>1900-01-01 18:41:00</td>\n",
       "      <td>16</td>\n",
       "      <td>18</td>\n",
       "    </tr>\n",
       "    <tr>\n",
       "      <th>3</th>\n",
       "      <td>2.0</td>\n",
       "      <td>12.0</td>\n",
       "      <td>1900-01-01 21:14:00</td>\n",
       "      <td>1900-01-01 23:41:00</td>\n",
       "      <td>21</td>\n",
       "      <td>23</td>\n",
       "    </tr>\n",
       "    <tr>\n",
       "      <th>4</th>\n",
       "      <td>4.0</td>\n",
       "      <td>16.0</td>\n",
       "      <td>1900-01-01 20:15:00</td>\n",
       "      <td>1900-01-01 23:16:00</td>\n",
       "      <td>20</td>\n",
       "      <td>23</td>\n",
       "    </tr>\n",
       "    <tr>\n",
       "      <th>...</th>\n",
       "      <td>...</td>\n",
       "      <td>...</td>\n",
       "      <td>...</td>\n",
       "      <td>...</td>\n",
       "      <td>...</td>\n",
       "      <td>...</td>\n",
       "    </tr>\n",
       "    <tr>\n",
       "      <th>195867</th>\n",
       "      <td>8.0</td>\n",
       "      <td>27.0</td>\n",
       "      <td>1900-01-01 16:18:00</td>\n",
       "      <td>1900-01-01 18:26:00</td>\n",
       "      <td>16</td>\n",
       "      <td>18</td>\n",
       "    </tr>\n",
       "    <tr>\n",
       "      <th>195868</th>\n",
       "      <td>18.0</td>\n",
       "      <td>12.0</td>\n",
       "      <td>1900-01-01 19:18:00</td>\n",
       "      <td>1900-01-01 20:45:00</td>\n",
       "      <td>19</td>\n",
       "      <td>20</td>\n",
       "    </tr>\n",
       "    <tr>\n",
       "      <th>195869</th>\n",
       "      <td>2.0</td>\n",
       "      <td>22.0</td>\n",
       "      <td>1900-01-01 14:40:00</td>\n",
       "      <td>1900-01-01 15:30:00</td>\n",
       "      <td>14</td>\n",
       "      <td>15</td>\n",
       "    </tr>\n",
       "    <tr>\n",
       "      <th>195870</th>\n",
       "      <td>7.0</td>\n",
       "      <td>24.0</td>\n",
       "      <td>1900-01-01 08:00:00</td>\n",
       "      <td>1900-01-01 10:27:00</td>\n",
       "      <td>8</td>\n",
       "      <td>10</td>\n",
       "    </tr>\n",
       "    <tr>\n",
       "      <th>195871</th>\n",
       "      <td>9.0</td>\n",
       "      <td>16.0</td>\n",
       "      <td>1900-01-01 14:25:00</td>\n",
       "      <td>1900-01-01 15:40:00</td>\n",
       "      <td>14</td>\n",
       "      <td>15</td>\n",
       "    </tr>\n",
       "  </tbody>\n",
       "</table>\n",
       "<p>195872 rows × 6 columns</p>\n",
       "</div>"
      ],
      "text/plain": [
       "        taxi_in  taxi_out            dep_time            arr_time  dep_hour  \\\n",
       "0           4.0      20.0 1900-01-01 14:53:00 1900-01-01 16:35:00        14   \n",
       "1          10.0      38.0 1900-01-01 17:57:00 1900-01-01 22:01:00        17   \n",
       "2           4.0      16.0 1900-01-01 16:30:00 1900-01-01 18:41:00        16   \n",
       "3           2.0      12.0 1900-01-01 21:14:00 1900-01-01 23:41:00        21   \n",
       "4           4.0      16.0 1900-01-01 20:15:00 1900-01-01 23:16:00        20   \n",
       "...         ...       ...                 ...                 ...       ...   \n",
       "195867      8.0      27.0 1900-01-01 16:18:00 1900-01-01 18:26:00        16   \n",
       "195868     18.0      12.0 1900-01-01 19:18:00 1900-01-01 20:45:00        19   \n",
       "195869      2.0      22.0 1900-01-01 14:40:00 1900-01-01 15:30:00        14   \n",
       "195870      7.0      24.0 1900-01-01 08:00:00 1900-01-01 10:27:00         8   \n",
       "195871      9.0      16.0 1900-01-01 14:25:00 1900-01-01 15:40:00        14   \n",
       "\n",
       "        arr_hour  \n",
       "0             16  \n",
       "1             22  \n",
       "2             18  \n",
       "3             23  \n",
       "4             23  \n",
       "...          ...  \n",
       "195867        18  \n",
       "195868        20  \n",
       "195869        15  \n",
       "195870        10  \n",
       "195871        15  \n",
       "\n",
       "[195872 rows x 6 columns]"
      ]
     },
     "execution_count": 27,
     "metadata": {},
     "output_type": "execute_result"
    }
   ],
   "source": [
    "taxi_df['dep_hour'] = taxi_df['dep_time'].dt.hour\n",
    "taxi_df['arr_hour'] = taxi_df['arr_time'].dt.hour\n",
    "taxi_df"
   ]
  },
  {
   "cell_type": "code",
   "execution_count": 28,
   "metadata": {},
   "outputs": [],
   "source": [
    "mean_taxi_out = taxi_df.groupby('dep_hour')['taxi_out'].mean()\n",
    "mean_taxi_in = taxi_df.groupby('dep_hour')['taxi_in'].mean()"
   ]
  },
  {
   "cell_type": "code",
   "execution_count": 32,
   "metadata": {},
   "outputs": [
    {
     "data": {
      "image/png": "[encoded data removed]",
      "text/plain": [
       "<Figure size 1080x720 with 1 Axes>"
      ]
     },
     "metadata": {
      "needs_background": "light"
     },
     "output_type": "display_data"
    }
   ],
   "source": [
    "fig, axes = plt.subplots(figsize=(15,10))\n",
    "sns.lineplot(ax=axes, x=mean_taxi_in.index, y=mean_taxi_in.values)\n",
    "plt.xticks(mean_taxi_in.index);\n",
    "axes.set_title('Average Taxi-in Time Throughout the Day')\n",
    "axes.set_xlabel('Hours')\n",
    "axes.set_ylabel('Time')\n",
    "plt.show()"
   ]
  },
  {
   "cell_type": "code",
   "execution_count": 33,
   "metadata": {},
   "outputs": [
    {
     "data": {
      "image/png": "[encoded data removed]",
      "text/plain": [
       "<Figure size 1080x720 with 1 Axes>"
      ]
     },
     "metadata": {
      "needs_background": "light"
     },
     "output_type": "display_data"
    }
   ],
   "source": [
    "fig, axes = plt.subplots(figsize=(15,10))\n",
    "\n",
    "sns.lineplot(ax=axes, x=mean_taxi_out.index, y=mean_taxi_out.values)\n",
    "plt.xticks(mean_taxi_out.index);\n",
    "axes.set_title('Average Taxi-out Time Throughout the Day')\n",
    "axes.set_xlabel('Hours')\n",
    "axes.set_ylabel('Time')\n",
    "plt.show()"
   ]
  }
 ],
 "metadata": {
  "kernelspec": {
   "display_name": "Python 3",
   "language": "python",
   "name": "python3"
  },
  "language_info": {
   "codemirror_mode": {
    "name": "ipython",
    "version": 3
   },
   "file_extension": ".py",
   "mimetype": "text/x-python",
   "name": "python",
   "nbconvert_exporter": "python",
   "pygments_lexer": "ipython3",
   "version": "3.8.12"
  },
  "toc": {
   "base_numbering": 1,
   "nav_menu": {},
   "number_sections": true,
   "sideBar": true,
   "skip_h1_title": false,
   "title_cell": "Table of Contents",
   "title_sidebar": "Contents",
   "toc_cell": false,
   "toc_position": {},
   "toc_section_display": true,
   "toc_window_display": false
  },
  "varInspector": {
   "cols": {
    "lenName": 16,
    "lenType": 16,
    "lenVar": 40
   },
   "kernels_config": {
    "python": {
     "delete_cmd_postfix": "",
     "delete_cmd_prefix": "del ",
     "library": "var_list.py",
     "varRefreshCmd": "print(var_dic_list())"
    },
    "r": {
     "delete_cmd_postfix": ") ",
     "delete_cmd_prefix": "rm(",
     "library": "var_list.r",
     "varRefreshCmd": "cat(var_dic_list()) "
    }
   },
   "types_to_exclude": [
    "module",
    "function",
    "builtin_function_or_method",
    "instance",
    "_Feature"
   ],
   "window_display": false
  }
 },
 "nbformat": 4,
 "nbformat_minor": 4
}
