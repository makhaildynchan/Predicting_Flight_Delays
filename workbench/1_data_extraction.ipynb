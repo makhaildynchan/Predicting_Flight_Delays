{
 "cells": [
  {
   "cell_type": "markdown",
   "metadata": {},
   "source": [
    "## `Flight Delay Prediction`\n",
    "### **Part 1:** Data Extraction\n",
    "\n",
    "Ali Bahrami\n"
   ]
  },
  {
   "cell_type": "code",
   "execution_count": 1,
   "metadata": {},
   "outputs": [],
   "source": [
    "# import libraries\n",
    "import numpy as np\n",
    "import pandas as pd\n",
    "import psycopg2\n",
    "import config as cfg\n"
   ]
  },
  {
   "cell_type": "markdown",
   "metadata": {},
   "source": [
    "## Extract the Data"
   ]
  },
  {
   "cell_type": "code",
   "execution_count": 2,
   "metadata": {},
   "outputs": [],
   "source": [
    "# Connect to the postgresql database.\n",
    "# The database credentials are stored separately in config.py to avoid sensitive data from being uploaded to github\n",
    "user = cfg.database['user']\n",
    "password = cfg.database['password']\n",
    "host = cfg.database['host']\n",
    "port = cfg.database['port']\n",
    "database = cfg.database['database']\n",
    "\n",
    "conn = psycopg2.connect(user = user,\n",
    "                        password = password,\n",
    "                        host = host,\n",
    "                        port = port,\n",
    "                        database = database)"
   ]
  },
  {
   "cell_type": "code",
   "execution_count": 15,
   "metadata": {},
   "outputs": [
    {
     "data": {
      "text/plain": [
       "(200000, 42)"
      ]
     },
     "execution_count": 15,
     "metadata": {},
     "output_type": "execute_result"
    }
   ],
   "source": [
    "query = \"select * from flights ORDER BY RANDOM() LIMIT 200000\"\n",
    "\n",
    "df_flights = pd.read_sql(sql=query ,con=conn)\n",
    "df_flights.shape"
   ]
  },
  {
   "cell_type": "code",
   "execution_count": 16,
   "metadata": {},
   "outputs": [
    {
     "data": {
      "text/plain": [
       "(200000, 38)"
      ]
     },
     "execution_count": 16,
     "metadata": {},
     "output_type": "execute_result"
    }
   ],
   "source": [
    "query = \"select * from passengers ORDER BY RANDOM() LIMIT 200000\"\n",
    "\n",
    "df_passengers = pd.read_sql(sql=query ,con=conn)\n",
    "df_passengers.shape"
   ]
  },
  {
   "cell_type": "code",
   "execution_count": 17,
   "metadata": {},
   "outputs": [
    {
     "data": {
      "text/plain": [
       "(3035, 25)"
      ]
     },
     "execution_count": 17,
     "metadata": {},
     "output_type": "execute_result"
    }
   ],
   "source": [
    "query = \"select * from fuel_comsumption\"\n",
    "\n",
    "df_fuel = pd.read_sql(sql=query ,con=conn)\n",
    "df_fuel.shape"
   ]
  },
  {
   "cell_type": "code",
   "execution_count": 3,
   "metadata": {},
   "outputs": [
    {
     "data": {
      "text/plain": [
       "(660556, 20)"
      ]
     },
     "execution_count": 3,
     "metadata": {},
     "output_type": "execute_result"
    }
   ],
   "source": [
    "query = \"select * from flights_test\"\n",
    "\n",
    "df_flights_test = pd.read_sql(sql=query ,con=conn)\n",
    "df_flights_test.shape"
   ]
  },
  {
   "cell_type": "code",
   "execution_count": 23,
   "metadata": {},
   "outputs": [],
   "source": [
    "# Export the files into csv\n",
    "df_flights.to_csv(\"data/raw/flights_raw.csv\", index=False)\n",
    "df_flights_test.to_csv(\"data/flights_test.csv\", index=False)\n",
    "df_passengers.to_csv(\"data/raw/passengers_raw.csv\", index=False)\n",
    "df_fuel.to_csv(\"data/raw/fuel_raw.csv\", index=False)"
   ]
  },
  {
   "cell_type": "code",
   "execution_count": 5,
   "metadata": {},
   "outputs": [],
   "source": [
    "# Close the cursor and connection to so the server can allocate bandwidth to other requests\n",
    "conn.close()"
   ]
  }
 ],
 "metadata": {
  "kernelspec": {
   "display_name": "Python 3",
   "language": "python",
   "name": "python3"
  },
  "language_info": {
   "codemirror_mode": {
    "name": "ipython",
    "version": 3
   },
   "file_extension": ".py",
   "mimetype": "text/x-python",
   "name": "python",
   "nbconvert_exporter": "python",
   "pygments_lexer": "ipython3",
   "version": "3.8.12"
  },
  "toc": {
   "base_numbering": 1,
   "nav_menu": {},
   "number_sections": true,
   "sideBar": true,
   "skip_h1_title": false,
   "title_cell": "Table of Contents",
   "title_sidebar": "Contents",
   "toc_cell": false,
   "toc_position": {},
   "toc_section_display": true,
   "toc_window_display": false
  },
  "varInspector": {
   "cols": {
    "lenName": 16,
    "lenType": 16,
    "lenVar": 40
   },
   "kernels_config": {
    "python": {
     "delete_cmd_postfix": "",
     "delete_cmd_prefix": "del ",
     "library": "var_list.py",
     "varRefreshCmd": "print(var_dic_list())"
    },
    "r": {
     "delete_cmd_postfix": ") ",
     "delete_cmd_prefix": "rm(",
     "library": "var_list.r",
     "varRefreshCmd": "cat(var_dic_list()) "
    }
   },
   "types_to_exclude": [
    "module",
    "function",
    "builtin_function_or_method",
    "instance",
    "_Feature"
   ],
   "window_display": false
  }
 },
 "nbformat": 4,
 "nbformat_minor": 4
}
