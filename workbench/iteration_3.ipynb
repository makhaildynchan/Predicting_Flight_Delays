{
 "cells": [
  {
   "cell_type": "code",
   "execution_count": 4,
   "id": "8607bec7",
   "metadata": {},
   "outputs": [],
   "source": [
    "import pandas as pd\n",
    "import numpy as np\n",
    "import statsmodels.api as sm\n",
    "from sklearn.model_selection import train_test_split\n",
    "from sklearn.linear_model import LinearRegression\n",
    "from sklearn.feature_selection import RFE\n",
    "from sklearn.linear_model import RidgeCV, LassoCV, Ridge, Lasso\n",
    "from sklearn.preprocessing import LabelEncoder\n",
    "import sklearn.preprocessing\n",
    "from sklearn.linear_model import LinearRegression\n",
    "from sklearn.metrics import mean_absolute_error\n",
    "from sklearn.metrics import r2_score\n",
    "from sklearn.preprocessing import StandardScaler\n",
    "from sklearn.model_selection import train_test_split\n",
    "from sklearn.metrics import mean_squared_error\n",
    "import xgboost as xgb"
   ]
  },
  {
   "cell_type": "code",
   "execution_count": 5,
   "id": "bc9769a8",
   "metadata": {},
   "outputs": [
    {
     "data": {
      "text/html": [
       "<div>\n",
       "<style scoped>\n",
       "    .dataframe tbody tr th:only-of-type {\n",
       "        vertical-align: middle;\n",
       "    }\n",
       "\n",
       "    .dataframe tbody tr th {\n",
       "        vertical-align: top;\n",
       "    }\n",
       "\n",
       "    .dataframe thead th {\n",
       "        text-align: right;\n",
       "    }\n",
       "</style>\n",
       "<table border=\"1\" class=\"dataframe\">\n",
       "  <thead>\n",
       "    <tr style=\"text-align: right;\">\n",
       "      <th></th>\n",
       "      <th>origin</th>\n",
       "      <th>dest</th>\n",
       "      <th>taxi_out</th>\n",
       "      <th>taxi_in</th>\n",
       "      <th>month</th>\n",
       "      <th>day_of_week</th>\n",
       "      <th>carrier_encoded</th>\n",
       "      <th>haul_encoded</th>\n",
       "      <th>binned_dep</th>\n",
       "      <th>binned_arr</th>\n",
       "      <th>binned_distance</th>\n",
       "      <th>route</th>\n",
       "      <th>average_route_time</th>\n",
       "      <th>arr_delay</th>\n",
       "      <th>mean_hist_dep_delay</th>\n",
       "      <th>mean_hist_arr_delay</th>\n",
       "    </tr>\n",
       "  </thead>\n",
       "  <tbody>\n",
       "    <tr>\n",
       "      <th>0</th>\n",
       "      <td>46</td>\n",
       "      <td>297</td>\n",
       "      <td>20.0</td>\n",
       "      <td>4.0</td>\n",
       "      <td>5</td>\n",
       "      <td>4</td>\n",
       "      <td>3</td>\n",
       "      <td>2</td>\n",
       "      <td>5</td>\n",
       "      <td>6</td>\n",
       "      <td>1</td>\n",
       "      <td>672</td>\n",
       "      <td>125.024174</td>\n",
       "      <td>-14.0</td>\n",
       "      <td>7.857507</td>\n",
       "      <td>1.722365</td>\n",
       "    </tr>\n",
       "    <tr>\n",
       "      <th>1</th>\n",
       "      <td>21</td>\n",
       "      <td>290</td>\n",
       "      <td>12.0</td>\n",
       "      <td>2.0</td>\n",
       "      <td>7</td>\n",
       "      <td>6</td>\n",
       "      <td>3</td>\n",
       "      <td>2</td>\n",
       "      <td>8</td>\n",
       "      <td>8</td>\n",
       "      <td>1</td>\n",
       "      <td>255</td>\n",
       "      <td>125.024174</td>\n",
       "      <td>-14.0</td>\n",
       "      <td>10.701001</td>\n",
       "      <td>4.330997</td>\n",
       "    </tr>\n",
       "    <tr>\n",
       "      <th>2</th>\n",
       "      <td>21</td>\n",
       "      <td>83</td>\n",
       "      <td>34.0</td>\n",
       "      <td>3.0</td>\n",
       "      <td>3</td>\n",
       "      <td>5</td>\n",
       "      <td>3</td>\n",
       "      <td>2</td>\n",
       "      <td>4</td>\n",
       "      <td>4</td>\n",
       "      <td>1</td>\n",
       "      <td>167</td>\n",
       "      <td>125.024174</td>\n",
       "      <td>13.0</td>\n",
       "      <td>4.143817</td>\n",
       "      <td>-3.180434</td>\n",
       "    </tr>\n",
       "    <tr>\n",
       "      <th>3</th>\n",
       "      <td>184</td>\n",
       "      <td>320</td>\n",
       "      <td>22.0</td>\n",
       "      <td>8.0</td>\n",
       "      <td>9</td>\n",
       "      <td>0</td>\n",
       "      <td>3</td>\n",
       "      <td>1</td>\n",
       "      <td>3</td>\n",
       "      <td>4</td>\n",
       "      <td>2</td>\n",
       "      <td>2941</td>\n",
       "      <td>125.024174</td>\n",
       "      <td>-18.0</td>\n",
       "      <td>0.845592</td>\n",
       "      <td>-3.180434</td>\n",
       "    </tr>\n",
       "    <tr>\n",
       "      <th>4</th>\n",
       "      <td>86</td>\n",
       "      <td>240</td>\n",
       "      <td>25.0</td>\n",
       "      <td>2.0</td>\n",
       "      <td>8</td>\n",
       "      <td>2</td>\n",
       "      <td>3</td>\n",
       "      <td>2</td>\n",
       "      <td>6</td>\n",
       "      <td>6</td>\n",
       "      <td>1</td>\n",
       "      <td>1249</td>\n",
       "      <td>125.024174</td>\n",
       "      <td>11.0</td>\n",
       "      <td>8.389935</td>\n",
       "      <td>1.722365</td>\n",
       "    </tr>\n",
       "  </tbody>\n",
       "</table>\n",
       "</div>"
      ],
      "text/plain": [
       "   origin  dest  taxi_out  taxi_in  month  day_of_week  carrier_encoded  \\\n",
       "0      46   297      20.0      4.0      5            4                3   \n",
       "1      21   290      12.0      2.0      7            6                3   \n",
       "2      21    83      34.0      3.0      3            5                3   \n",
       "3     184   320      22.0      8.0      9            0                3   \n",
       "4      86   240      25.0      2.0      8            2                3   \n",
       "\n",
       "   haul_encoded  binned_dep  binned_arr  binned_distance  route  \\\n",
       "0             2           5           6                1    672   \n",
       "1             2           8           8                1    255   \n",
       "2             2           4           4                1    167   \n",
       "3             1           3           4                2   2941   \n",
       "4             2           6           6                1   1249   \n",
       "\n",
       "   average_route_time  arr_delay  mean_hist_dep_delay  mean_hist_arr_delay  \n",
       "0          125.024174      -14.0             7.857507             1.722365  \n",
       "1          125.024174      -14.0            10.701001             4.330997  \n",
       "2          125.024174       13.0             4.143817            -3.180434  \n",
       "3          125.024174      -18.0             0.845592            -3.180434  \n",
       "4          125.024174       11.0             8.389935             1.722365  "
      ]
     },
     "execution_count": 5,
     "metadata": {},
     "output_type": "execute_result"
    }
   ],
   "source": [
    "my_path = \"C:/Users/user/lighthouse/Midterm_Project/Predicting_Flight_Delays/workbench/\"\n",
    "df = pd.read_csv(my_path +'feature_3.csv')\n",
    "df = df.drop('Unnamed: 0', axis=1)\n",
    "df.head()"
   ]
  },
  {
   "cell_type": "markdown",
   "id": "4812c953",
   "metadata": {},
   "source": [
    "# Setting x and y values"
   ]
  },
  {
   "cell_type": "code",
   "execution_count": 6,
   "id": "63d6640e",
   "metadata": {},
   "outputs": [],
   "source": [
    "X = df.drop('arr_delay',axis=1)\n",
    "y = df['arr_delay']"
   ]
  },
  {
   "cell_type": "markdown",
   "id": "bbf35476",
   "metadata": {},
   "source": [
    "# Lasso = Feature Importance"
   ]
  },
  {
   "cell_type": "code",
   "execution_count": 7,
   "id": "52fe6380",
   "metadata": {},
   "outputs": [
    {
     "name": "stdout",
     "output_type": "stream",
     "text": [
      "Lasso picked 6 variables and eliminated the other 9 variables\n"
     ]
    },
    {
     "data": {
      "text/plain": [
       "Text(0.5, 1.0, 'Feature importance using Lasso Model')"
      ]
     },
     "execution_count": 7,
     "metadata": {},
     "output_type": "execute_result"
    },
    {
     "data": {
      "image/png": "[encoded data removed]",
      "text/plain": [
       "<Figure size 576x720 with 1 Axes>"
      ]
     },
     "metadata": {
      "needs_background": "light"
     },
     "output_type": "display_data"
    }
   ],
   "source": [
    "reg = LassoCV()\n",
    "reg.fit(X, y)\n",
    "coef = pd.Series(reg.coef_, index = X.columns)\n",
    "print(\"Lasso picked \" + str(sum(coef != 0)) + \" variables and eliminated the other \" +  str(sum(coef == 0)) + \" variables\")\n",
    "\n",
    "import matplotlib.pyplot as plt\n",
    "import matplotlib\n",
    "imp_coef = coef.sort_values()\n",
    "\n",
    "matplotlib.rcParams['figure.figsize'] = (8.0, 10.0)\n",
    "imp_coef.plot(kind = \"barh\")\n",
    "plt.title(\"Feature importance using Lasso Model\")"
   ]
  },
  {
   "cell_type": "markdown",
   "id": "84d361a7",
   "metadata": {},
   "source": [
    "# Splitting of data"
   ]
  },
  {
   "cell_type": "code",
   "execution_count": 8,
   "id": "78b822f6",
   "metadata": {},
   "outputs": [],
   "source": [
    "scaler = StandardScaler()\n",
    "scaled_df = scaler.fit_transform(X)\n",
    "X_train, X_test, y_train, y_test = train_test_split(X, y, test_size=0.3)"
   ]
  },
  {
   "cell_type": "markdown",
   "id": "1f9446c8",
   "metadata": {},
   "source": [
    "# Lasso Regression"
   ]
  },
  {
   "cell_type": "code",
   "execution_count": 9,
   "id": "e7e8a550",
   "metadata": {},
   "outputs": [
    {
     "name": "stdout",
     "output_type": "stream",
     "text": [
      "RSME:  25.961990573115678\n",
      "R2:  0.13892624927165487\n"
     ]
    },
    {
     "name": "stderr",
     "output_type": "stream",
     "text": [
      "C:\\Users\\user\\anaconda3\\lib\\site-packages\\sklearn\\linear_model\\_coordinate_descent.py:647: ConvergenceWarning: Objective did not converge. You might want to increase the number of iterations, check the scale of the features or consider increasing regularisation. Duality gap: 3.626e+07, tolerance: 1.075e+04\n",
      "  model = cd_fast.enet_coordinate_descent(\n"
     ]
    }
   ],
   "source": [
    "reg = LassoCV()\n",
    "reg.fit(X, y)\n",
    "model_lasso = Lasso(alpha=0.01)\n",
    "model_lasso.fit(X_train, y_train) \n",
    "pred_test_lasso= model_lasso.predict(X_test)\n",
    "print('RSME: ',np.sqrt(mean_squared_error(y_test,pred_test_lasso))) \n",
    "print('R2: ',r2_score(y_test, pred_test_lasso))"
   ]
  },
  {
   "cell_type": "markdown",
   "id": "4d35be04",
   "metadata": {},
   "source": [
    "# Ridge Regression"
   ]
  },
  {
   "cell_type": "code",
   "execution_count": 10,
   "id": "0686d1c9",
   "metadata": {},
   "outputs": [
    {
     "name": "stdout",
     "output_type": "stream",
     "text": [
      "RSME:  25.961699872307335\n",
      "R2:  0.13894553234113016\n"
     ]
    }
   ],
   "source": [
    "rr = Ridge(alpha=0.01)\n",
    "rr.fit(X_train, y_train) \n",
    "pred_test_rr= rr.predict(X_test)\n",
    "print('RSME: ',np.sqrt(mean_squared_error(y_test,pred_test_rr))) \n",
    "print('R2: ',r2_score(y_test, pred_test_rr))"
   ]
  },
  {
   "cell_type": "markdown",
   "id": "6ee989c7",
   "metadata": {},
   "source": [
    "# XGBoost"
   ]
  },
  {
   "cell_type": "code",
   "execution_count": 11,
   "id": "14a6899e",
   "metadata": {},
   "outputs": [
    {
     "name": "stdout",
     "output_type": "stream",
     "text": [
      "Model RMSE is:  9.52875086386867\n",
      "Model R2 Score is:  0.884005788030954\n"
     ]
    }
   ],
   "source": [
    "data_dmatrix = xgb.DMatrix(data=X,label=y)\n",
    "xg_reg = xgb.XGBRegressor(objective ='reg:squarederror', colsample_bytree = 0.3, learning_rate = 0.1,\n",
    "                max_depth = 15, alpha = 10, n_estimators = 200)\n",
    "xg_reg.fit(X_test,y_test)\n",
    "y_pred_xgb = xg_reg.predict(X_test)\n",
    "print('Model RMSE is: ',np.sqrt(mean_squared_error(y_test, y_pred_xgb)))\n",
    "print('Model R2 Score is: ',r2_score(y_test,y_pred_xgb))"
   ]
  },
  {
   "cell_type": "code",
   "execution_count": 12,
   "id": "2c8c92f3",
   "metadata": {},
   "outputs": [
    {
     "data": {
      "image/png": "[encoded data removed]",
      "text/plain": [
       "<Figure size 576x720 with 1 Axes>"
      ]
     },
     "metadata": {
      "needs_background": "light"
     },
     "output_type": "display_data"
    }
   ],
   "source": [
    "xgb.plot_importance(xg_reg)\n",
    "plt.rcParams['figure.figsize'] = [50, 50]\n",
    "plt.show()"
   ]
  },
  {
   "cell_type": "markdown",
   "id": "aeb3c1a0",
   "metadata": {},
   "source": [
    "# Random Forest"
   ]
  },
  {
   "cell_type": "code",
   "execution_count": 13,
   "id": "3d4cf5f3",
   "metadata": {},
   "outputs": [
    {
     "name": "stdout",
     "output_type": "stream",
     "text": [
      "R2 score: 0.12932768495520675\n",
      "RMSE: 26.106291345989714\n"
     ]
    }
   ],
   "source": [
    "from sklearn.ensemble import RandomForestRegressor\n",
    "rf = RandomForestRegressor(n_estimators=100)\n",
    "rf.fit(X_train,y_train)\n",
    "y_pred_RF = rf.predict(X_test)\n",
    "from sklearn import metrics\n",
    "print('R2 score:',r2_score(y_test, y_pred_RF))\n",
    "print('RMSE:', np.sqrt(metrics.mean_squared_error(y_test, y_pred_RF)))"
   ]
  },
  {
   "cell_type": "code",
   "execution_count": null,
   "id": "8f350e6c",
   "metadata": {},
   "outputs": [],
   "source": []
  }
 ],
 "metadata": {
  "kernelspec": {
   "display_name": "Python 3 (ipykernel)",
   "language": "python",
   "name": "python3"
  },
  "language_info": {
   "codemirror_mode": {
    "name": "ipython",
    "version": 3
   },
   "file_extension": ".py",
   "mimetype": "text/x-python",
   "name": "python",
   "nbconvert_exporter": "python",
   "pygments_lexer": "ipython3",
   "version": "3.8.11"
  }
 },
 "nbformat": 4,
 "nbformat_minor": 5
}
